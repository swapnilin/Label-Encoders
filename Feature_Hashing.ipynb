{
 "cells": [
  {
   "cell_type": "markdown",
   "id": "af5b4d38",
   "metadata": {},
   "source": [
    "# Feature Hashing"
   ]
  },
  {
   "cell_type": "markdown",
   "id": "8c15289e",
   "metadata": {},
   "source": [
    "Let's create a pandas dataframe with a color feature with high cardinality."
   ]
  },
  {
   "cell_type": "code",
   "execution_count": 35,
   "id": "60bfa2c2",
   "metadata": {},
   "outputs": [
    {
     "name": "stdout",
     "output_type": "stream",
     "text": [
      "      Color  Target\n",
      "0      Cyan       0\n",
      "1     Brown       1\n",
      "2      Gray       0\n",
      "3    Orange       0\n",
      "4    Orange       0\n",
      "5     White       1\n",
      "6      Gray       0\n",
      "7     Brown       0\n",
      "8   Magenta       0\n",
      "9    Yellow       1\n",
      "10   Orange       0\n",
      "11  Magenta       0\n",
      "12     Gray       0\n",
      "13   Yellow       0\n",
      "14  Magenta       1\n",
      "15      Red       0\n",
      "16      Red       1\n",
      "17    Green       1\n",
      "18     Blue       1\n",
      "19  Magenta       0\n",
      "20   Indigo       1\n",
      "21     Pink       0\n",
      "22   Violet       1\n",
      "23     Cyan       1\n",
      "24    Brown       1\n",
      "25   Indigo       1\n",
      "26   Indigo       1\n",
      "27   Purple       1\n",
      "28     Gray       1\n",
      "29   Indigo       1\n",
      "30    Green       0\n",
      "31    White       0\n",
      "32   Orange       1\n",
      "33    White       1\n",
      "34   Violet       1\n",
      "35   Indigo       0\n",
      "36   Indigo       1\n",
      "37   Violet       0\n",
      "38     Blue       0\n",
      "39   Purple       0\n",
      "40      Red       0\n",
      "41     Blue       0\n",
      "42   Purple       1\n",
      "43   Violet       1\n",
      "44     Cyan       1\n",
      "45  Magenta       1\n",
      "46     Gray       1\n",
      "47    Green       0\n",
      "48   Purple       1\n",
      "49   Violet       1\n"
     ]
    }
   ],
   "source": [
    "import pandas as pd\n",
    "import numpy as np\n",
    "import random\n",
    "\n",
    "# Set random seed for reproducibility\n",
    "np.random.seed(42)\n",
    "\n",
    "# Define the number of rows and unique categories\n",
    "num_rows = 50\n",
    "num_categories = 15\n",
    "\n",
    "# List of color names\n",
    "color_names = ['Red', 'Orange', 'Yellow', 'Green', 'Blue', 'Indigo', 'Violet', 'White', 'Black', 'Gray', 'Pink', 'Brown', 'Cyan', 'Magenta', 'Purple']\n",
    "\n",
    "# Generate random categorical data\n",
    "categories = random.choices(color_names, k=num_rows)\n",
    "\n",
    "# Generate random flag values (0 and 1)\n",
    "flags = np.random.randint(2, size=num_rows)\n",
    "\n",
    "# Create the DataFrame\n",
    "df = pd.DataFrame({'Color': categories, 'Target': flags})\n",
    "df['Color'] = df['Color'].astype('category')\n",
    "\n",
    "# Display the DataFrame\n",
    "print(df)\n"
   ]
  },
  {
   "cell_type": "code",
   "execution_count": 3,
   "id": "b045f32b",
   "metadata": {},
   "outputs": [
    {
     "data": {
      "text/plain": [
       "['Pink', 'Gray', 'Yellow', 'White', 'Black', ..., 'Cyan', 'Brown', 'Orange', 'Green', 'Violet']\n",
       "Length: 15\n",
       "Categories (15, object): ['Black', 'Blue', 'Brown', 'Cyan', ..., 'Red', 'Violet', 'White', 'Yellow']"
      ]
     },
     "execution_count": 3,
     "metadata": {},
     "output_type": "execute_result"
    }
   ],
   "source": [
    "df.Color.unique()"
   ]
  },
  {
   "cell_type": "markdown",
   "id": "b8ac9132",
   "metadata": {},
   "source": [
    "There are 15 unique color categories in this column. Let's explore each encoding technique one by one:\n",
    "1. One hot encoding\n",
    "2. Label encoding\n",
    "3. Target Encoding\n",
    "4. Hash encoding"
   ]
  },
  {
   "cell_type": "markdown",
   "id": "54c905c4",
   "metadata": {},
   "source": [
    "    "
   ]
  },
  {
   "cell_type": "markdown",
   "id": "14175f70",
   "metadata": {},
   "source": [
    "## Hash encoding or Feature Hashing"
   ]
  },
  {
   "cell_type": "markdown",
   "id": "950de0b7",
   "metadata": {},
   "source": [
    "    "
   ]
  },
  {
   "cell_type": "markdown",
   "id": "2aa8dcdf",
   "metadata": {},
   "source": [
    "One-Hot Encoding has a major drawback. The number of new feature it produces are equivalent to the categories in the original feature, which causes dimensionality issues when the cardinality is too high. Hash Encoding can represent the categorical data into a lesser number of columns.\n",
    "\n",
    "The main advantage of using Hash Encoding is that you can control the number of numerical columns you want to create to represent categorical data."
   ]
  },
  {
   "cell_type": "markdown",
   "id": "4a95ab46",
   "metadata": {},
   "source": [
    "    "
   ]
  },
  {
   "cell_type": "code",
   "execution_count": 9,
   "id": "a60ae7d3",
   "metadata": {},
   "outputs": [],
   "source": [
    "#!pip install category_encoders"
   ]
  },
  {
   "cell_type": "markdown",
   "id": "d29222c0",
   "metadata": {},
   "source": [
    "Using the **category_encoders** library, let's try to Hash Encode the category column color."
   ]
  },
  {
   "cell_type": "code",
   "execution_count": 4,
   "id": "e769c2db",
   "metadata": {},
   "outputs": [
    {
     "data": {
      "text/html": [
       "<div>\n",
       "<style scoped>\n",
       "    .dataframe tbody tr th:only-of-type {\n",
       "        vertical-align: middle;\n",
       "    }\n",
       "\n",
       "    .dataframe tbody tr th {\n",
       "        vertical-align: top;\n",
       "    }\n",
       "\n",
       "    .dataframe thead th {\n",
       "        text-align: right;\n",
       "    }\n",
       "</style>\n",
       "<table border=\"1\" class=\"dataframe\">\n",
       "  <thead>\n",
       "    <tr style=\"text-align: right;\">\n",
       "      <th></th>\n",
       "      <th>col_0</th>\n",
       "      <th>col_1</th>\n",
       "      <th>col_2</th>\n",
       "      <th>col_3</th>\n",
       "      <th>col_4</th>\n",
       "    </tr>\n",
       "  </thead>\n",
       "  <tbody>\n",
       "    <tr>\n",
       "      <th>33</th>\n",
       "      <td>0</td>\n",
       "      <td>1</td>\n",
       "      <td>0</td>\n",
       "      <td>0</td>\n",
       "      <td>0</td>\n",
       "    </tr>\n",
       "    <tr>\n",
       "      <th>0</th>\n",
       "      <td>0</td>\n",
       "      <td>0</td>\n",
       "      <td>1</td>\n",
       "      <td>0</td>\n",
       "      <td>0</td>\n",
       "    </tr>\n",
       "    <tr>\n",
       "      <th>34</th>\n",
       "      <td>0</td>\n",
       "      <td>0</td>\n",
       "      <td>0</td>\n",
       "      <td>1</td>\n",
       "      <td>0</td>\n",
       "    </tr>\n",
       "    <tr>\n",
       "      <th>12</th>\n",
       "      <td>0</td>\n",
       "      <td>0</td>\n",
       "      <td>0</td>\n",
       "      <td>0</td>\n",
       "      <td>1</td>\n",
       "    </tr>\n",
       "    <tr>\n",
       "      <th>10</th>\n",
       "      <td>0</td>\n",
       "      <td>0</td>\n",
       "      <td>0</td>\n",
       "      <td>1</td>\n",
       "      <td>0</td>\n",
       "    </tr>\n",
       "  </tbody>\n",
       "</table>\n",
       "</div>"
      ],
      "text/plain": [
       "    col_0  col_1  col_2  col_3  col_4\n",
       "33      0      1      0      0      0\n",
       "0       0      0      1      0      0\n",
       "34      0      0      0      1      0\n",
       "12      0      0      0      0      1\n",
       "10      0      0      0      1      0"
      ]
     },
     "execution_count": 4,
     "metadata": {},
     "output_type": "execute_result"
    }
   ],
   "source": [
    "# import category_encoders\n",
    "import category_encoders as ce\n",
    "\n",
    "# create an object and specify the number of new columns required\n",
    "encoder=ce.HashingEncoder(cols='Color',n_components=5)\n",
    "\n",
    "# Encode the Color feature\n",
    "hash_en = encoder.fit_transform(df['Color'])\n",
    "\n",
    "# View data\n",
    "hash_en.sample(5)"
   ]
  },
  {
   "cell_type": "markdown",
   "id": "8e416797",
   "metadata": {},
   "source": [
    "Hash Encoding has some significant weaknesses. \n",
    "\n",
    "**1. Collision:** Since a high number of categorical values are represented with a smaller number of features, different categorical values could be represented by the same Hash values, this is called **collision**.\n",
    "\n",
    "\n",
    "If the hash size is too small, more collisions will happen and negatively affect model performance. On the other hand, the larger the hash size, the more it will consume memory.\n",
    "Collisions also affect model performance. With high collisions, a model won’t be able to differentiate coefficients between feature values.\n",
    "\n",
    "\n",
    "**2. No inverse mapping:** Interpretability becomes an issue. You cannot interpret feature importances since we do not store the hash values, we cannot go from feature indices back to feature names. This is similar to issues with PCA.\n"
   ]
  },
  {
   "cell_type": "markdown",
   "id": "b46cd640",
   "metadata": {},
   "source": [
    "    "
   ]
  },
  {
   "cell_type": "code",
   "execution_count": 5,
   "id": "b0c16a5c",
   "metadata": {},
   "outputs": [],
   "source": [
    "# concat the data\n",
    "full_df = pd.concat([encoder.fit_transform(df['Color']), df], axis =1)"
   ]
  },
  {
   "cell_type": "code",
   "execution_count": 6,
   "id": "fd4b66ee",
   "metadata": {},
   "outputs": [
    {
     "data": {
      "text/html": [
       "<div>\n",
       "<style scoped>\n",
       "    .dataframe tbody tr th:only-of-type {\n",
       "        vertical-align: middle;\n",
       "    }\n",
       "\n",
       "    .dataframe tbody tr th {\n",
       "        vertical-align: top;\n",
       "    }\n",
       "\n",
       "    .dataframe thead th {\n",
       "        text-align: right;\n",
       "    }\n",
       "</style>\n",
       "<table border=\"1\" class=\"dataframe\">\n",
       "  <thead>\n",
       "    <tr style=\"text-align: right;\">\n",
       "      <th></th>\n",
       "      <th>col_0</th>\n",
       "      <th>col_1</th>\n",
       "      <th>col_2</th>\n",
       "      <th>col_3</th>\n",
       "      <th>col_4</th>\n",
       "      <th>Color</th>\n",
       "      <th>Target</th>\n",
       "    </tr>\n",
       "  </thead>\n",
       "  <tbody>\n",
       "    <tr>\n",
       "      <th>0</th>\n",
       "      <td>0</td>\n",
       "      <td>0</td>\n",
       "      <td>1</td>\n",
       "      <td>0</td>\n",
       "      <td>0</td>\n",
       "      <td>Pink</td>\n",
       "      <td>0</td>\n",
       "    </tr>\n",
       "    <tr>\n",
       "      <th>1</th>\n",
       "      <td>0</td>\n",
       "      <td>0</td>\n",
       "      <td>0</td>\n",
       "      <td>1</td>\n",
       "      <td>0</td>\n",
       "      <td>Gray</td>\n",
       "      <td>1</td>\n",
       "    </tr>\n",
       "    <tr>\n",
       "      <th>2</th>\n",
       "      <td>0</td>\n",
       "      <td>1</td>\n",
       "      <td>0</td>\n",
       "      <td>0</td>\n",
       "      <td>0</td>\n",
       "      <td>Yellow</td>\n",
       "      <td>0</td>\n",
       "    </tr>\n",
       "    <tr>\n",
       "      <th>3</th>\n",
       "      <td>1</td>\n",
       "      <td>0</td>\n",
       "      <td>0</td>\n",
       "      <td>0</td>\n",
       "      <td>0</td>\n",
       "      <td>White</td>\n",
       "      <td>0</td>\n",
       "    </tr>\n",
       "    <tr>\n",
       "      <th>4</th>\n",
       "      <td>0</td>\n",
       "      <td>0</td>\n",
       "      <td>0</td>\n",
       "      <td>1</td>\n",
       "      <td>0</td>\n",
       "      <td>Black</td>\n",
       "      <td>0</td>\n",
       "    </tr>\n",
       "  </tbody>\n",
       "</table>\n",
       "</div>"
      ],
      "text/plain": [
       "   col_0  col_1  col_2  col_3  col_4   Color  Target\n",
       "0      0      0      1      0      0    Pink       0\n",
       "1      0      0      0      1      0    Gray       1\n",
       "2      0      1      0      0      0  Yellow       0\n",
       "3      1      0      0      0      0   White       0\n",
       "4      0      0      0      1      0   Black       0"
      ]
     },
     "execution_count": 6,
     "metadata": {},
     "output_type": "execute_result"
    }
   ],
   "source": [
    "full_df.head()"
   ]
  },
  {
   "cell_type": "markdown",
   "id": "878e61c8",
   "metadata": {},
   "source": [
    "Let's check if there are any collisions"
   ]
  },
  {
   "cell_type": "code",
   "execution_count": 7,
   "id": "f6fb390e",
   "metadata": {},
   "outputs": [
    {
     "name": "stdout",
     "output_type": "stream",
     "text": [
      "col_0  col_1  col_2  col_3  col_4\n",
      "0      0      0      0      1        ['Indigo', 'Purple', 'Brown', 'Orange', 'Green...\n",
      "                     1      0        ['Gray', 'Black', 'Blue']\n",
      "Categories (15, obje...\n",
      "              1      0      0        ['Pink', 'Red', 'Magenta']\n",
      "Categories (15, obj...\n",
      "       1      0      0      0        ['Yellow', 'Cyan']\n",
      "Categories (15, object): ['...\n",
      "1      0      0      0      0        ['White', 'Violet']\n",
      "Categories (15, object): [...\n",
      "Name: Color, dtype: object\n"
     ]
    }
   ],
   "source": [
    "# Group the DataFrame by the hashed features\n",
    "grouped_df = full_df.groupby(['col_0', 'col_1', 'col_2', 'col_3', 'col_4'])\n",
    "\n",
    "# Get the categories with collision (more than one category per group)\n",
    "collision_pairs = grouped_df['Color'].apply(lambda x: x.nunique() > 1)\n",
    "\n",
    "# Filter the grouped DataFrame to show only the collision pairs\n",
    "collision_df = grouped_df['Color'].unique()[collision_pairs]\n",
    "\n",
    "# Display the collision pairs\n",
    "print(collision_df)\n"
   ]
  },
  {
   "cell_type": "code",
   "execution_count": 8,
   "id": "16fa064b",
   "metadata": {},
   "outputs": [
    {
     "data": {
      "text/html": [
       "<div>\n",
       "<style scoped>\n",
       "    .dataframe tbody tr th:only-of-type {\n",
       "        vertical-align: middle;\n",
       "    }\n",
       "\n",
       "    .dataframe tbody tr th {\n",
       "        vertical-align: top;\n",
       "    }\n",
       "\n",
       "    .dataframe thead th {\n",
       "        text-align: right;\n",
       "    }\n",
       "</style>\n",
       "<table border=\"1\" class=\"dataframe\">\n",
       "  <thead>\n",
       "    <tr style=\"text-align: right;\">\n",
       "      <th></th>\n",
       "      <th>col_0</th>\n",
       "      <th>col_1</th>\n",
       "      <th>col_2</th>\n",
       "      <th>col_3</th>\n",
       "      <th>col_4</th>\n",
       "      <th>Color</th>\n",
       "      <th>Target</th>\n",
       "    </tr>\n",
       "  </thead>\n",
       "  <tbody>\n",
       "    <tr>\n",
       "      <th>1</th>\n",
       "      <td>0</td>\n",
       "      <td>0</td>\n",
       "      <td>0</td>\n",
       "      <td>1</td>\n",
       "      <td>0</td>\n",
       "      <td>Gray</td>\n",
       "      <td>1</td>\n",
       "    </tr>\n",
       "    <tr>\n",
       "      <th>4</th>\n",
       "      <td>0</td>\n",
       "      <td>0</td>\n",
       "      <td>0</td>\n",
       "      <td>1</td>\n",
       "      <td>0</td>\n",
       "      <td>Black</td>\n",
       "      <td>0</td>\n",
       "    </tr>\n",
       "    <tr>\n",
       "      <th>6</th>\n",
       "      <td>0</td>\n",
       "      <td>0</td>\n",
       "      <td>0</td>\n",
       "      <td>1</td>\n",
       "      <td>0</td>\n",
       "      <td>Black</td>\n",
       "      <td>0</td>\n",
       "    </tr>\n",
       "    <tr>\n",
       "      <th>9</th>\n",
       "      <td>0</td>\n",
       "      <td>0</td>\n",
       "      <td>0</td>\n",
       "      <td>1</td>\n",
       "      <td>0</td>\n",
       "      <td>Black</td>\n",
       "      <td>1</td>\n",
       "    </tr>\n",
       "    <tr>\n",
       "      <th>10</th>\n",
       "      <td>0</td>\n",
       "      <td>0</td>\n",
       "      <td>0</td>\n",
       "      <td>1</td>\n",
       "      <td>0</td>\n",
       "      <td>Blue</td>\n",
       "      <td>0</td>\n",
       "    </tr>\n",
       "    <tr>\n",
       "      <th>17</th>\n",
       "      <td>0</td>\n",
       "      <td>0</td>\n",
       "      <td>0</td>\n",
       "      <td>1</td>\n",
       "      <td>0</td>\n",
       "      <td>Gray</td>\n",
       "      <td>1</td>\n",
       "    </tr>\n",
       "    <tr>\n",
       "      <th>34</th>\n",
       "      <td>0</td>\n",
       "      <td>0</td>\n",
       "      <td>0</td>\n",
       "      <td>1</td>\n",
       "      <td>0</td>\n",
       "      <td>Blue</td>\n",
       "      <td>1</td>\n",
       "    </tr>\n",
       "    <tr>\n",
       "      <th>35</th>\n",
       "      <td>0</td>\n",
       "      <td>0</td>\n",
       "      <td>0</td>\n",
       "      <td>1</td>\n",
       "      <td>0</td>\n",
       "      <td>Gray</td>\n",
       "      <td>0</td>\n",
       "    </tr>\n",
       "    <tr>\n",
       "      <th>37</th>\n",
       "      <td>0</td>\n",
       "      <td>0</td>\n",
       "      <td>0</td>\n",
       "      <td>1</td>\n",
       "      <td>0</td>\n",
       "      <td>Black</td>\n",
       "      <td>0</td>\n",
       "    </tr>\n",
       "    <tr>\n",
       "      <th>39</th>\n",
       "      <td>0</td>\n",
       "      <td>0</td>\n",
       "      <td>0</td>\n",
       "      <td>1</td>\n",
       "      <td>0</td>\n",
       "      <td>Gray</td>\n",
       "      <td>0</td>\n",
       "    </tr>\n",
       "    <tr>\n",
       "      <th>41</th>\n",
       "      <td>0</td>\n",
       "      <td>0</td>\n",
       "      <td>0</td>\n",
       "      <td>1</td>\n",
       "      <td>0</td>\n",
       "      <td>Blue</td>\n",
       "      <td>0</td>\n",
       "    </tr>\n",
       "  </tbody>\n",
       "</table>\n",
       "</div>"
      ],
      "text/plain": [
       "    col_0  col_1  col_2  col_3  col_4  Color  Target\n",
       "1       0      0      0      1      0   Gray       1\n",
       "4       0      0      0      1      0  Black       0\n",
       "6       0      0      0      1      0  Black       0\n",
       "9       0      0      0      1      0  Black       1\n",
       "10      0      0      0      1      0   Blue       0\n",
       "17      0      0      0      1      0   Gray       1\n",
       "34      0      0      0      1      0   Blue       1\n",
       "35      0      0      0      1      0   Gray       0\n",
       "37      0      0      0      1      0  Black       0\n",
       "39      0      0      0      1      0   Gray       0\n",
       "41      0      0      0      1      0   Blue       0"
      ]
     },
     "execution_count": 8,
     "metadata": {},
     "output_type": "execute_result"
    }
   ],
   "source": [
    "# Inspect the 'Black', 'Gray', 'Blue' group\n",
    "full_df[full_df.Color.isin(['Black', 'Gray', 'Blue'])]"
   ]
  },
  {
   "cell_type": "markdown",
   "id": "31484059",
   "metadata": {},
   "source": [
    "As you can see, there is a collision between the categories \"Blue\" and “Black” and \"Gray\". They are both represented by dimension 3.\n",
    "\n",
    "The lower the desired dimensionality, the higher the chances of collision. To reduce the probability of collision, we can increase the desired dimensions. This is the trade-off between speed and quality of learning.\n",
    "\n",
    "One possible solution to this is using **signed hash functions**. Which essentialy gives a positive sign to a feature and the collided feature gets a negative sign. \n",
    "\n",
    "However, the impact on accuracy due to collision is observed to be low as long as you use a sufficiently large vector space for hashing."
   ]
  },
  {
   "cell_type": "code",
   "execution_count": 9,
   "id": "2d2206e4",
   "metadata": {},
   "outputs": [],
   "source": [
    "from sklearn.feature_extraction import FeatureHasher"
   ]
  },
  {
   "cell_type": "code",
   "execution_count": 10,
   "id": "42aac71e",
   "metadata": {},
   "outputs": [],
   "source": [
    "h = FeatureHasher(n_features=5, input_type=\"string\")"
   ]
  },
  {
   "cell_type": "markdown",
   "id": "9aef945a",
   "metadata": {},
   "source": [
    "How to choose `n_features` in FeatureHasher in sklearn:\n",
    "\n",
    "https://datascience.stackexchange.com/questions/77819/how-should-i-choose-n-features-in-featurehasher-in-sklearn"
   ]
  },
  {
   "cell_type": "code",
   "execution_count": 11,
   "id": "1411b639",
   "metadata": {},
   "outputs": [],
   "source": [
    "f = h.fit_transform(df['Color'])"
   ]
  },
  {
   "cell_type": "code",
   "execution_count": 12,
   "id": "9e09ddda",
   "metadata": {},
   "outputs": [
    {
     "data": {
      "text/plain": [
       "scipy.sparse._csr.csr_matrix"
      ]
     },
     "execution_count": 12,
     "metadata": {},
     "output_type": "execute_result"
    }
   ],
   "source": [
    "type(f)"
   ]
  },
  {
   "cell_type": "markdown",
   "id": "d0b6e704",
   "metadata": {},
   "source": [
    "To put data from a **scipy.sparse.csr_matrix** into a pandas DataFrame, you can use the `.toarray()` method to convert the sparse matrix into a dense array. Then, you can pass the dense array to the DataFrame constructor."
   ]
  },
  {
   "cell_type": "code",
   "execution_count": 54,
   "id": "afed8ec7",
   "metadata": {},
   "outputs": [
    {
     "data": {
      "text/plain": [
       "(50, 5)"
      ]
     },
     "execution_count": 54,
     "metadata": {},
     "output_type": "execute_result"
    }
   ],
   "source": [
    "f.toarray().shape"
   ]
  },
  {
   "cell_type": "code",
   "execution_count": 13,
   "id": "ffb13449",
   "metadata": {},
   "outputs": [],
   "source": [
    "fh_hash=f.toarray()"
   ]
  },
  {
   "cell_type": "code",
   "execution_count": 13,
   "id": "d727aa4f",
   "metadata": {},
   "outputs": [
    {
     "data": {
      "text/plain": [
       "array([[ 1., -1.,  0.,  0.,  0.],\n",
       "       [ 0.,  0.,  0.,  0.,  3.],\n",
       "       [ 1., -1.,  0.,  0.,  0.],\n",
       "       [ 0., -1.,  1.,  1.,  1.],\n",
       "       [ 1., -2.,  2.,  0.,  1.],\n",
       "       [ 0., -1.,  1.,  1.,  1.],\n",
       "       [ 0.,  0.,  0.,  0.,  3.],\n",
       "       [ 2.,  0.,  0.,  0.,  2.],\n",
       "       [ 2.,  0.,  0.,  0.,  0.],\n",
       "       [ 2.,  0.,  0.,  0.,  2.],\n",
       "       [ 0., -3.,  0.,  0., -1.],\n",
       "       [ 0.,  0.,  0.,  0.,  3.],\n",
       "       [ 0., -1.,  1.,  1.,  1.],\n",
       "       [ 2.,  0.,  0.,  0.,  0.],\n",
       "       [ 2.,  0.,  0.,  0.,  0.],\n",
       "       [ 3.,  0., -1.,  0., -1.],\n",
       "       [ 0., -1.,  1.,  1.,  1.],\n",
       "       [ 2.,  0.,  0.,  0.,  0.],\n",
       "       [ 0., -1.,  1.,  1.,  1.],\n",
       "       [ 0., -1., -1.,  1.,  1.],\n",
       "       [-1., -1.,  0.,  0., -1.],\n",
       "       [ 1.,  0.,  0.,  0.,  2.],\n",
       "       [ 0., -3.,  0.,  0., -1.],\n",
       "       [ 1., -1., -1.,  1., -1.],\n",
       "       [ 0., -1.,  1.,  1.,  1.],\n",
       "       [ 1.,  0.,  0.,  0.,  2.],\n",
       "       [ 0., -1.,  1.,  1.,  1.],\n",
       "       [ 1., -1.,  0.,  0.,  0.],\n",
       "       [ 0., -1.,  1.,  1.,  1.],\n",
       "       [ 1., -1., -1.,  0.,  0.],\n",
       "       [ 0., -1., -1.,  1.,  1.],\n",
       "       [ 1., -1.,  0.,  0.,  0.],\n",
       "       [ 3.,  0., -1.,  0., -1.],\n",
       "       [ 3.,  0., -1.,  0., -1.],\n",
       "       [ 0., -1.,  1.,  1.,  1.],\n",
       "       [ 1.,  0.,  0.,  0.,  2.],\n",
       "       [ 0., -3.,  0.,  0., -1.],\n",
       "       [ 0.,  0.,  0.,  0.,  3.],\n",
       "       [ 2.,  0.,  0.,  0.,  0.],\n",
       "       [ 2.,  0.,  0.,  0.,  0.],\n",
       "       [ 3.,  0., -1.,  0., -1.],\n",
       "       [ 3.,  0., -1.,  0., -1.],\n",
       "       [ 2.,  0.,  0.,  0.,  2.],\n",
       "       [ 1., -1., -1.,  1., -1.],\n",
       "       [ 2.,  0.,  0.,  0.,  2.],\n",
       "       [ 1., -1., -1.,  0.,  0.],\n",
       "       [ 0., -1.,  1.,  1.,  1.],\n",
       "       [ 1., -2.,  2.,  0.,  1.],\n",
       "       [-1., -1.,  0.,  0., -1.],\n",
       "       [ 0., -1., -1.,  1.,  1.]])"
      ]
     },
     "execution_count": 13,
     "metadata": {},
     "output_type": "execute_result"
    }
   ],
   "source": [
    "fh_hash"
   ]
  },
  {
   "cell_type": "code",
   "execution_count": 18,
   "id": "908f6894",
   "metadata": {},
   "outputs": [
    {
     "name": "stdout",
     "output_type": "stream",
     "text": [
      "    col_0  col_1  col_2  col_3  col_4\n",
      "0     0.0   -3.0    0.0    0.0   -1.0\n",
      "1     2.0    0.0    0.0    0.0    2.0\n",
      "2     0.0   -1.0    1.0    1.0    1.0\n",
      "3    -1.0   -1.0    0.0    0.0   -1.0\n",
      "4     1.0   -1.0   -1.0    0.0    0.0\n",
      "5     0.0   -3.0    0.0    0.0   -1.0\n",
      "6     1.0   -1.0   -1.0    0.0    0.0\n",
      "7    -1.0   -1.0    0.0    0.0   -1.0\n",
      "8     0.0    0.0    0.0    0.0    3.0\n",
      "9     1.0   -1.0   -1.0    0.0    0.0\n",
      "10    0.0    0.0    1.0    0.0    1.0\n",
      "11    3.0    0.0   -1.0    0.0   -1.0\n",
      "12    0.0   -1.0   -1.0    1.0    1.0\n",
      "13    0.0    0.0    0.0    0.0    3.0\n",
      "14    3.0    0.0   -1.0    0.0   -1.0\n",
      "15    0.0    0.0    0.0    0.0    3.0\n",
      "16    1.0   -2.0    2.0    0.0    1.0\n",
      "17    2.0    0.0    0.0    0.0    2.0\n",
      "18    1.0   -1.0    0.0    0.0    0.0\n",
      "19    0.0   -1.0   -1.0    1.0    1.0\n",
      "20   -1.0   -1.0    0.0    0.0   -1.0\n",
      "21    1.0   -2.0    2.0    0.0    1.0\n",
      "22   -1.0   -1.0    0.0    0.0   -1.0\n",
      "23    1.0   -1.0   -1.0    1.0   -1.0\n",
      "24    2.0    0.0    0.0    0.0    0.0\n",
      "25    2.0    0.0    0.0    0.0    0.0\n",
      "26    1.0   -2.0    2.0    0.0    1.0\n",
      "27    0.0   -1.0    1.0    1.0    1.0\n",
      "28    0.0   -1.0    1.0    1.0    1.0\n",
      "29    2.0    0.0    0.0    0.0    0.0\n",
      "30    0.0    0.0    0.0    0.0    3.0\n",
      "31    2.0    0.0    0.0    0.0    0.0\n",
      "32    1.0    0.0    0.0    0.0    2.0\n",
      "33    0.0   -1.0    1.0    1.0    1.0\n",
      "34    0.0    0.0    1.0    0.0    1.0\n",
      "35    2.0    0.0    0.0    0.0    2.0\n",
      "36   -1.0   -1.0    0.0    0.0   -1.0\n",
      "37    1.0   -1.0   -1.0    0.0    0.0\n",
      "38    0.0   -3.0    0.0    0.0   -1.0\n",
      "39    2.0    0.0    0.0    0.0    2.0\n",
      "40    1.0   -2.0    2.0    0.0    1.0\n",
      "41    0.0    0.0    1.0    0.0    1.0\n",
      "42    0.0   -1.0    1.0    1.0    1.0\n",
      "43    0.0    0.0    0.0    0.0    3.0\n",
      "44    0.0   -1.0    1.0    1.0    1.0\n",
      "45    1.0    0.0    0.0    0.0    2.0\n",
      "46    0.0   -1.0    1.0    1.0    1.0\n",
      "47    0.0   -1.0    1.0    1.0    1.0\n",
      "48    1.0   -1.0   -1.0    1.0   -1.0\n",
      "49    3.0    0.0   -1.0    0.0   -1.0\n"
     ]
    }
   ],
   "source": [
    "# Create a pandas DataFrame from the dense array\n",
    "new = pd.DataFrame(fh_hash, columns=['col_0', 'col_1', 'col_2', 'col_3', 'col_4'])\n",
    "\n",
    "# Display the DataFrame\n",
    "print(new)"
   ]
  },
  {
   "cell_type": "code",
   "execution_count": 22,
   "id": "8472f355",
   "metadata": {},
   "outputs": [
    {
     "data": {
      "text/plain": [
       "pandas.core.frame.DataFrame"
      ]
     },
     "execution_count": 22,
     "metadata": {},
     "output_type": "execute_result"
    }
   ],
   "source": [
    "type(new)"
   ]
  },
  {
   "cell_type": "code",
   "execution_count": 27,
   "id": "dc5f687f",
   "metadata": {},
   "outputs": [],
   "source": [
    "new_full = pd.concat((new, df[['Color','Target']]), axis =1)"
   ]
  },
  {
   "cell_type": "code",
   "execution_count": 28,
   "id": "e5bde15e",
   "metadata": {},
   "outputs": [
    {
     "data": {
      "text/html": [
       "<div>\n",
       "<style scoped>\n",
       "    .dataframe tbody tr th:only-of-type {\n",
       "        vertical-align: middle;\n",
       "    }\n",
       "\n",
       "    .dataframe tbody tr th {\n",
       "        vertical-align: top;\n",
       "    }\n",
       "\n",
       "    .dataframe thead th {\n",
       "        text-align: right;\n",
       "    }\n",
       "</style>\n",
       "<table border=\"1\" class=\"dataframe\">\n",
       "  <thead>\n",
       "    <tr style=\"text-align: right;\">\n",
       "      <th></th>\n",
       "      <th>col_0</th>\n",
       "      <th>col_1</th>\n",
       "      <th>col_2</th>\n",
       "      <th>col_3</th>\n",
       "      <th>col_4</th>\n",
       "      <th>Color</th>\n",
       "      <th>Target</th>\n",
       "    </tr>\n",
       "  </thead>\n",
       "  <tbody>\n",
       "    <tr>\n",
       "      <th>0</th>\n",
       "      <td>0.0</td>\n",
       "      <td>-3.0</td>\n",
       "      <td>0.0</td>\n",
       "      <td>0.0</td>\n",
       "      <td>-1.0</td>\n",
       "      <td>Pink</td>\n",
       "      <td>0</td>\n",
       "    </tr>\n",
       "    <tr>\n",
       "      <th>1</th>\n",
       "      <td>2.0</td>\n",
       "      <td>0.0</td>\n",
       "      <td>0.0</td>\n",
       "      <td>0.0</td>\n",
       "      <td>2.0</td>\n",
       "      <td>Gray</td>\n",
       "      <td>1</td>\n",
       "    </tr>\n",
       "    <tr>\n",
       "      <th>2</th>\n",
       "      <td>0.0</td>\n",
       "      <td>-1.0</td>\n",
       "      <td>1.0</td>\n",
       "      <td>1.0</td>\n",
       "      <td>1.0</td>\n",
       "      <td>Yellow</td>\n",
       "      <td>0</td>\n",
       "    </tr>\n",
       "    <tr>\n",
       "      <th>3</th>\n",
       "      <td>-1.0</td>\n",
       "      <td>-1.0</td>\n",
       "      <td>0.0</td>\n",
       "      <td>0.0</td>\n",
       "      <td>-1.0</td>\n",
       "      <td>White</td>\n",
       "      <td>0</td>\n",
       "    </tr>\n",
       "    <tr>\n",
       "      <th>4</th>\n",
       "      <td>1.0</td>\n",
       "      <td>-1.0</td>\n",
       "      <td>-1.0</td>\n",
       "      <td>0.0</td>\n",
       "      <td>0.0</td>\n",
       "      <td>Black</td>\n",
       "      <td>0</td>\n",
       "    </tr>\n",
       "  </tbody>\n",
       "</table>\n",
       "</div>"
      ],
      "text/plain": [
       "   col_0  col_1  col_2  col_3  col_4   Color  Target\n",
       "0    0.0   -3.0    0.0    0.0   -1.0    Pink       0\n",
       "1    2.0    0.0    0.0    0.0    2.0    Gray       1\n",
       "2    0.0   -1.0    1.0    1.0    1.0  Yellow       0\n",
       "3   -1.0   -1.0    0.0    0.0   -1.0   White       0\n",
       "4    1.0   -1.0   -1.0    0.0    0.0   Black       0"
      ]
     },
     "execution_count": 28,
     "metadata": {},
     "output_type": "execute_result"
    }
   ],
   "source": [
    "new_full.head()"
   ]
  },
  {
   "cell_type": "code",
   "execution_count": 29,
   "id": "ab39683b",
   "metadata": {},
   "outputs": [
    {
     "name": "stdout",
     "output_type": "stream",
     "text": [
      "col_0  col_1  col_2  col_3  col_4\n",
      "0.0    -1.0   1.0    1.0    1.0      ['Yellow', 'Violet']\n",
      "Categories (15, object): ...\n",
      "Name: Color, dtype: object\n"
     ]
    }
   ],
   "source": [
    "# Group the DataFrame by the hashed features\n",
    "grouped_df = new_full.groupby(['col_0', 'col_1', 'col_2', 'col_3', 'col_4'])\n",
    "\n",
    "# Get the categories with collision (more than one category per group)\n",
    "collision_pairs = grouped_df['Color'].apply(lambda x: x.nunique() > 1)\n",
    "\n",
    "# Filter the grouped DataFrame to show only the collision pairs\n",
    "collision_df2 = grouped_df['Color'].unique()[collision_pairs]\n",
    "\n",
    "# Display the collision pairs\n",
    "print(collision_df2)\n"
   ]
  },
  {
   "cell_type": "code",
   "execution_count": 31,
   "id": "7bde7ec6",
   "metadata": {},
   "outputs": [
    {
     "data": {
      "text/html": [
       "<div>\n",
       "<style scoped>\n",
       "    .dataframe tbody tr th:only-of-type {\n",
       "        vertical-align: middle;\n",
       "    }\n",
       "\n",
       "    .dataframe tbody tr th {\n",
       "        vertical-align: top;\n",
       "    }\n",
       "\n",
       "    .dataframe thead th {\n",
       "        text-align: right;\n",
       "    }\n",
       "</style>\n",
       "<table border=\"1\" class=\"dataframe\">\n",
       "  <thead>\n",
       "    <tr style=\"text-align: right;\">\n",
       "      <th></th>\n",
       "      <th>col_0</th>\n",
       "      <th>col_1</th>\n",
       "      <th>col_2</th>\n",
       "      <th>col_3</th>\n",
       "      <th>col_4</th>\n",
       "      <th>Color</th>\n",
       "      <th>Target</th>\n",
       "    </tr>\n",
       "  </thead>\n",
       "  <tbody>\n",
       "    <tr>\n",
       "      <th>2</th>\n",
       "      <td>0.0</td>\n",
       "      <td>-1.0</td>\n",
       "      <td>1.0</td>\n",
       "      <td>1.0</td>\n",
       "      <td>1.0</td>\n",
       "      <td>Yellow</td>\n",
       "      <td>0</td>\n",
       "    </tr>\n",
       "    <tr>\n",
       "      <th>27</th>\n",
       "      <td>0.0</td>\n",
       "      <td>-1.0</td>\n",
       "      <td>1.0</td>\n",
       "      <td>1.0</td>\n",
       "      <td>1.0</td>\n",
       "      <td>Yellow</td>\n",
       "      <td>1</td>\n",
       "    </tr>\n",
       "    <tr>\n",
       "      <th>28</th>\n",
       "      <td>0.0</td>\n",
       "      <td>-1.0</td>\n",
       "      <td>1.0</td>\n",
       "      <td>1.0</td>\n",
       "      <td>1.0</td>\n",
       "      <td>Yellow</td>\n",
       "      <td>1</td>\n",
       "    </tr>\n",
       "    <tr>\n",
       "      <th>33</th>\n",
       "      <td>0.0</td>\n",
       "      <td>-1.0</td>\n",
       "      <td>1.0</td>\n",
       "      <td>1.0</td>\n",
       "      <td>1.0</td>\n",
       "      <td>Yellow</td>\n",
       "      <td>1</td>\n",
       "    </tr>\n",
       "    <tr>\n",
       "      <th>42</th>\n",
       "      <td>0.0</td>\n",
       "      <td>-1.0</td>\n",
       "      <td>1.0</td>\n",
       "      <td>1.0</td>\n",
       "      <td>1.0</td>\n",
       "      <td>Violet</td>\n",
       "      <td>1</td>\n",
       "    </tr>\n",
       "    <tr>\n",
       "      <th>44</th>\n",
       "      <td>0.0</td>\n",
       "      <td>-1.0</td>\n",
       "      <td>1.0</td>\n",
       "      <td>1.0</td>\n",
       "      <td>1.0</td>\n",
       "      <td>Violet</td>\n",
       "      <td>1</td>\n",
       "    </tr>\n",
       "    <tr>\n",
       "      <th>46</th>\n",
       "      <td>0.0</td>\n",
       "      <td>-1.0</td>\n",
       "      <td>1.0</td>\n",
       "      <td>1.0</td>\n",
       "      <td>1.0</td>\n",
       "      <td>Yellow</td>\n",
       "      <td>1</td>\n",
       "    </tr>\n",
       "    <tr>\n",
       "      <th>47</th>\n",
       "      <td>0.0</td>\n",
       "      <td>-1.0</td>\n",
       "      <td>1.0</td>\n",
       "      <td>1.0</td>\n",
       "      <td>1.0</td>\n",
       "      <td>Violet</td>\n",
       "      <td>0</td>\n",
       "    </tr>\n",
       "  </tbody>\n",
       "</table>\n",
       "</div>"
      ],
      "text/plain": [
       "    col_0  col_1  col_2  col_3  col_4   Color  Target\n",
       "2     0.0   -1.0    1.0    1.0    1.0  Yellow       0\n",
       "27    0.0   -1.0    1.0    1.0    1.0  Yellow       1\n",
       "28    0.0   -1.0    1.0    1.0    1.0  Yellow       1\n",
       "33    0.0   -1.0    1.0    1.0    1.0  Yellow       1\n",
       "42    0.0   -1.0    1.0    1.0    1.0  Violet       1\n",
       "44    0.0   -1.0    1.0    1.0    1.0  Violet       1\n",
       "46    0.0   -1.0    1.0    1.0    1.0  Yellow       1\n",
       "47    0.0   -1.0    1.0    1.0    1.0  Violet       0"
      ]
     },
     "execution_count": 31,
     "metadata": {},
     "output_type": "execute_result"
    }
   ],
   "source": [
    "# Inspect the 'Black', 'Gray', 'Blue' group\n",
    "new_full[new_full.Color.isin(['Yellow', 'Violet'])]"
   ]
  },
  {
   "cell_type": "markdown",
   "id": "a95eb031",
   "metadata": {},
   "source": [
    "Here, 'Yellow' and 'Voilet' have collided but this is much better than `HashingEncoder`. You can try higher value for `n_features`. Although, higher dimensions does not always gaurantee non collisions. We can try a few different values."
   ]
  },
  {
   "cell_type": "code",
   "execution_count": 32,
   "id": "0130e532",
   "metadata": {},
   "outputs": [
    {
     "data": {
      "text/html": [
       "<div>\n",
       "<style scoped>\n",
       "    .dataframe tbody tr th:only-of-type {\n",
       "        vertical-align: middle;\n",
       "    }\n",
       "\n",
       "    .dataframe tbody tr th {\n",
       "        vertical-align: top;\n",
       "    }\n",
       "\n",
       "    .dataframe thead th {\n",
       "        text-align: right;\n",
       "    }\n",
       "</style>\n",
       "<table border=\"1\" class=\"dataframe\">\n",
       "  <thead>\n",
       "    <tr style=\"text-align: right;\">\n",
       "      <th></th>\n",
       "      <th>col_0</th>\n",
       "      <th>col_1</th>\n",
       "      <th>col_2</th>\n",
       "      <th>col_3</th>\n",
       "      <th>col_4</th>\n",
       "      <th>Target</th>\n",
       "    </tr>\n",
       "  </thead>\n",
       "  <tbody>\n",
       "    <tr>\n",
       "      <th>col_0</th>\n",
       "      <td>1.000000</td>\n",
       "      <td>0.360200</td>\n",
       "      <td>-0.272709</td>\n",
       "      <td>-0.263801</td>\n",
       "      <td>-0.037063</td>\n",
       "      <td>0.121428</td>\n",
       "    </tr>\n",
       "    <tr>\n",
       "      <th>col_1</th>\n",
       "      <td>0.360200</td>\n",
       "      <td>1.000000</td>\n",
       "      <td>-0.273896</td>\n",
       "      <td>-0.148660</td>\n",
       "      <td>0.422281</td>\n",
       "      <td>0.051148</td>\n",
       "    </tr>\n",
       "    <tr>\n",
       "      <th>col_2</th>\n",
       "      <td>-0.272709</td>\n",
       "      <td>-0.273896</td>\n",
       "      <td>1.000000</td>\n",
       "      <td>0.113662</td>\n",
       "      <td>0.314826</td>\n",
       "      <td>0.078668</td>\n",
       "    </tr>\n",
       "    <tr>\n",
       "      <th>col_3</th>\n",
       "      <td>-0.263801</td>\n",
       "      <td>-0.148660</td>\n",
       "      <td>0.113662</td>\n",
       "      <td>1.000000</td>\n",
       "      <td>0.020761</td>\n",
       "      <td>0.142819</td>\n",
       "    </tr>\n",
       "    <tr>\n",
       "      <th>col_4</th>\n",
       "      <td>-0.037063</td>\n",
       "      <td>0.422281</td>\n",
       "      <td>0.314826</td>\n",
       "      <td>0.020761</td>\n",
       "      <td>1.000000</td>\n",
       "      <td>-0.150581</td>\n",
       "    </tr>\n",
       "    <tr>\n",
       "      <th>Target</th>\n",
       "      <td>0.121428</td>\n",
       "      <td>0.051148</td>\n",
       "      <td>0.078668</td>\n",
       "      <td>0.142819</td>\n",
       "      <td>-0.150581</td>\n",
       "      <td>1.000000</td>\n",
       "    </tr>\n",
       "  </tbody>\n",
       "</table>\n",
       "</div>"
      ],
      "text/plain": [
       "           col_0     col_1     col_2     col_3     col_4    Target\n",
       "col_0   1.000000  0.360200 -0.272709 -0.263801 -0.037063  0.121428\n",
       "col_1   0.360200  1.000000 -0.273896 -0.148660  0.422281  0.051148\n",
       "col_2  -0.272709 -0.273896  1.000000  0.113662  0.314826  0.078668\n",
       "col_3  -0.263801 -0.148660  0.113662  1.000000  0.020761  0.142819\n",
       "col_4  -0.037063  0.422281  0.314826  0.020761  1.000000 -0.150581\n",
       "Target  0.121428  0.051148  0.078668  0.142819 -0.150581  1.000000"
      ]
     },
     "execution_count": 32,
     "metadata": {},
     "output_type": "execute_result"
    }
   ],
   "source": [
    "# Let's check feature correlations to target\n",
    "new_full.corr()"
   ]
  },
  {
   "cell_type": "code",
   "execution_count": 34,
   "id": "6677b199",
   "metadata": {},
   "outputs": [
    {
     "data": {
      "text/html": [
       "<div>\n",
       "<style scoped>\n",
       "    .dataframe tbody tr th:only-of-type {\n",
       "        vertical-align: middle;\n",
       "    }\n",
       "\n",
       "    .dataframe tbody tr th {\n",
       "        vertical-align: top;\n",
       "    }\n",
       "\n",
       "    .dataframe thead th {\n",
       "        text-align: right;\n",
       "    }\n",
       "</style>\n",
       "<table border=\"1\" class=\"dataframe\">\n",
       "  <thead>\n",
       "    <tr style=\"text-align: right;\">\n",
       "      <th></th>\n",
       "      <th>col_0</th>\n",
       "      <th>col_1</th>\n",
       "      <th>col_2</th>\n",
       "      <th>col_3</th>\n",
       "      <th>col_4</th>\n",
       "      <th>Target</th>\n",
       "    </tr>\n",
       "  </thead>\n",
       "  <tbody>\n",
       "    <tr>\n",
       "      <th>col_0</th>\n",
       "      <td>1.000000</td>\n",
       "      <td>0.372617</td>\n",
       "      <td>-0.300158</td>\n",
       "      <td>-0.273136</td>\n",
       "      <td>0.010607</td>\n",
       "      <td>0.128729</td>\n",
       "    </tr>\n",
       "    <tr>\n",
       "      <th>col_1</th>\n",
       "      <td>0.372617</td>\n",
       "      <td>1.000000</td>\n",
       "      <td>-0.224906</td>\n",
       "      <td>-0.297357</td>\n",
       "      <td>0.407178</td>\n",
       "      <td>0.015167</td>\n",
       "    </tr>\n",
       "    <tr>\n",
       "      <th>col_2</th>\n",
       "      <td>-0.300158</td>\n",
       "      <td>-0.224906</td>\n",
       "      <td>1.000000</td>\n",
       "      <td>0.160227</td>\n",
       "      <td>0.379540</td>\n",
       "      <td>0.092529</td>\n",
       "    </tr>\n",
       "    <tr>\n",
       "      <th>col_3</th>\n",
       "      <td>-0.273136</td>\n",
       "      <td>-0.297357</td>\n",
       "      <td>0.160227</td>\n",
       "      <td>1.000000</td>\n",
       "      <td>0.060410</td>\n",
       "      <td>0.142819</td>\n",
       "    </tr>\n",
       "    <tr>\n",
       "      <th>col_4</th>\n",
       "      <td>0.010607</td>\n",
       "      <td>0.407178</td>\n",
       "      <td>0.379540</td>\n",
       "      <td>0.060410</td>\n",
       "      <td>1.000000</td>\n",
       "      <td>-0.130853</td>\n",
       "    </tr>\n",
       "    <tr>\n",
       "      <th>Target</th>\n",
       "      <td>0.128729</td>\n",
       "      <td>0.015167</td>\n",
       "      <td>0.092529</td>\n",
       "      <td>0.142819</td>\n",
       "      <td>-0.130853</td>\n",
       "      <td>1.000000</td>\n",
       "    </tr>\n",
       "  </tbody>\n",
       "</table>\n",
       "</div>"
      ],
      "text/plain": [
       "           col_0     col_1     col_2     col_3     col_4    Target\n",
       "col_0   1.000000  0.372617 -0.300158 -0.273136  0.010607  0.128729\n",
       "col_1   0.372617  1.000000 -0.224906 -0.297357  0.407178  0.015167\n",
       "col_2  -0.300158 -0.224906  1.000000  0.160227  0.379540  0.092529\n",
       "col_3  -0.273136 -0.297357  0.160227  1.000000  0.060410  0.142819\n",
       "col_4   0.010607  0.407178  0.379540  0.060410  1.000000 -0.130853\n",
       "Target  0.128729  0.015167  0.092529  0.142819 -0.130853  1.000000"
      ]
     },
     "execution_count": 34,
     "metadata": {},
     "output_type": "execute_result"
    }
   ],
   "source": [
    "# Let's check feature correlations to target\n",
    "new_full.corr(method='spearman')"
   ]
  },
  {
   "cell_type": "markdown",
   "id": "b0eedefd",
   "metadata": {},
   "source": [
    "    "
   ]
  }
 ],
 "metadata": {
  "kernelspec": {
   "display_name": "Python 3 (ipykernel)",
   "language": "python",
   "name": "python3"
  },
  "language_info": {
   "codemirror_mode": {
    "name": "ipython",
    "version": 3
   },
   "file_extension": ".py",
   "mimetype": "text/x-python",
   "name": "python",
   "nbconvert_exporter": "python",
   "pygments_lexer": "ipython3",
   "version": "3.9.13"
  }
 },
 "nbformat": 4,
 "nbformat_minor": 5
}
