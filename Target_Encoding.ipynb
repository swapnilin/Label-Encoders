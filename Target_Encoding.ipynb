{
 "cells": [
  {
   "cell_type": "markdown",
   "id": "0d9cf4cf",
   "metadata": {},
   "source": [
    "# Target Encoding"
   ]
  },
  {
   "cell_type": "markdown",
   "id": "405817a2",
   "metadata": {},
   "source": [
    "Target encoding is a method used in machine learning and data analysis for encoding categorical variables. It involves replacing categories or labels of a categorical variable with some meaningful numeric representation based on the target variable. The target variable refers to the variable that we want to predict or model.\n",
    "\n",
    "The basic idea behind target encoding is to utilize the relationship between the categorical variable and the target variable to derive informative features. It is particularly useful when dealing with categorical variables with high cardinality, i.e., a large number of distinct categories.\n",
    "\n",
    "Target encoding leverages the information contained in the target variable to generate meaningful representations for categorical variables. By doing so, it allows the model to capture potential relationships between the categorical variable and the target variable, potentially improving the predictive performance of the model.\n",
    "\n",
    "It's worth noting that target encoding should be performed with caution, as it can lead to overfitting if not properly regularized or validated. Techniques such as cross-validation, smoothing, or incorporating other regularization methods can help mitigate this risk."
   ]
  },
  {
   "cell_type": "code",
   "execution_count": 1,
   "id": "030db007",
   "metadata": {},
   "outputs": [],
   "source": [
    "#!pip install category_encoders"
   ]
  },
  {
   "cell_type": "code",
   "execution_count": 2,
   "id": "d9445237",
   "metadata": {},
   "outputs": [],
   "source": [
    "import pandas as pd\n",
    "import category_encoders as ce\n",
    "from sklearn.model_selection import train_test_split\n",
    "from sklearn.linear_model import LogisticRegression\n",
    "from sklearn.metrics import accuracy_score\n"
   ]
  },
  {
   "cell_type": "markdown",
   "id": "42357223",
   "metadata": {},
   "source": [
    "We will first create a sample dataset with the `color` and `label` columns. The we will split the dataset into training and validation sets using the `train_test_split` function from scikit-learn."
   ]
  },
  {
   "cell_type": "code",
   "execution_count": 3,
   "id": "ad33622a",
   "metadata": {},
   "outputs": [],
   "source": [
    "# Create a sample dataset\n",
    "data = {'color': ['red', 'blue', 'green', 'red', 'blue', 'blue'],\n",
    "        'label': [1, 0, 1, 0, 1, 0]}\n",
    "df = pd.DataFrame(data)\n"
   ]
  },
  {
   "cell_type": "code",
   "execution_count": 4,
   "id": "7b1542cb",
   "metadata": {},
   "outputs": [
    {
     "data": {
      "text/html": [
       "<div>\n",
       "<style scoped>\n",
       "    .dataframe tbody tr th:only-of-type {\n",
       "        vertical-align: middle;\n",
       "    }\n",
       "\n",
       "    .dataframe tbody tr th {\n",
       "        vertical-align: top;\n",
       "    }\n",
       "\n",
       "    .dataframe thead th {\n",
       "        text-align: right;\n",
       "    }\n",
       "</style>\n",
       "<table border=\"1\" class=\"dataframe\">\n",
       "  <thead>\n",
       "    <tr style=\"text-align: right;\">\n",
       "      <th></th>\n",
       "      <th>color</th>\n",
       "      <th>label</th>\n",
       "    </tr>\n",
       "  </thead>\n",
       "  <tbody>\n",
       "    <tr>\n",
       "      <th>0</th>\n",
       "      <td>red</td>\n",
       "      <td>1</td>\n",
       "    </tr>\n",
       "    <tr>\n",
       "      <th>1</th>\n",
       "      <td>blue</td>\n",
       "      <td>0</td>\n",
       "    </tr>\n",
       "    <tr>\n",
       "      <th>2</th>\n",
       "      <td>green</td>\n",
       "      <td>1</td>\n",
       "    </tr>\n",
       "    <tr>\n",
       "      <th>3</th>\n",
       "      <td>red</td>\n",
       "      <td>0</td>\n",
       "    </tr>\n",
       "    <tr>\n",
       "      <th>4</th>\n",
       "      <td>blue</td>\n",
       "      <td>1</td>\n",
       "    </tr>\n",
       "  </tbody>\n",
       "</table>\n",
       "</div>"
      ],
      "text/plain": [
       "   color  label\n",
       "0    red      1\n",
       "1   blue      0\n",
       "2  green      1\n",
       "3    red      0\n",
       "4   blue      1"
      ]
     },
     "execution_count": 4,
     "metadata": {},
     "output_type": "execute_result"
    }
   ],
   "source": [
    "df.head()"
   ]
  },
  {
   "cell_type": "markdown",
   "id": "8723aa4f",
   "metadata": {},
   "source": [
    "## With one hot encoding"
   ]
  },
  {
   "cell_type": "code",
   "execution_count": 5,
   "id": "2531c68c",
   "metadata": {},
   "outputs": [],
   "source": [
    "# Perform one-hot encoding\n",
    "encoded = pd.get_dummies(df['color'], prefix='color')\n",
    "\n",
    "# Concatenate the original DataFrame with the encoded variables\n",
    "df_encoded = pd.concat([df, encoded], axis=1)"
   ]
  },
  {
   "cell_type": "code",
   "execution_count": 6,
   "id": "1095ffa9",
   "metadata": {},
   "outputs": [
    {
     "data": {
      "text/html": [
       "<div>\n",
       "<style scoped>\n",
       "    .dataframe tbody tr th:only-of-type {\n",
       "        vertical-align: middle;\n",
       "    }\n",
       "\n",
       "    .dataframe tbody tr th {\n",
       "        vertical-align: top;\n",
       "    }\n",
       "\n",
       "    .dataframe thead th {\n",
       "        text-align: right;\n",
       "    }\n",
       "</style>\n",
       "<table border=\"1\" class=\"dataframe\">\n",
       "  <thead>\n",
       "    <tr style=\"text-align: right;\">\n",
       "      <th></th>\n",
       "      <th>label</th>\n",
       "      <th>color_blue</th>\n",
       "      <th>color_green</th>\n",
       "      <th>color_red</th>\n",
       "    </tr>\n",
       "  </thead>\n",
       "  <tbody>\n",
       "    <tr>\n",
       "      <th>0</th>\n",
       "      <td>1</td>\n",
       "      <td>0</td>\n",
       "      <td>0</td>\n",
       "      <td>1</td>\n",
       "    </tr>\n",
       "    <tr>\n",
       "      <th>1</th>\n",
       "      <td>0</td>\n",
       "      <td>1</td>\n",
       "      <td>0</td>\n",
       "      <td>0</td>\n",
       "    </tr>\n",
       "    <tr>\n",
       "      <th>2</th>\n",
       "      <td>1</td>\n",
       "      <td>0</td>\n",
       "      <td>1</td>\n",
       "      <td>0</td>\n",
       "    </tr>\n",
       "    <tr>\n",
       "      <th>3</th>\n",
       "      <td>0</td>\n",
       "      <td>0</td>\n",
       "      <td>0</td>\n",
       "      <td>1</td>\n",
       "    </tr>\n",
       "    <tr>\n",
       "      <th>4</th>\n",
       "      <td>1</td>\n",
       "      <td>1</td>\n",
       "      <td>0</td>\n",
       "      <td>0</td>\n",
       "    </tr>\n",
       "    <tr>\n",
       "      <th>5</th>\n",
       "      <td>0</td>\n",
       "      <td>1</td>\n",
       "      <td>0</td>\n",
       "      <td>0</td>\n",
       "    </tr>\n",
       "  </tbody>\n",
       "</table>\n",
       "</div>"
      ],
      "text/plain": [
       "   label  color_blue  color_green  color_red\n",
       "0      1           0            0          1\n",
       "1      0           1            0          0\n",
       "2      1           0            1          0\n",
       "3      0           0            0          1\n",
       "4      1           1            0          0\n",
       "5      0           1            0          0"
      ]
     },
     "execution_count": 6,
     "metadata": {},
     "output_type": "execute_result"
    }
   ],
   "source": [
    "df_encoded.drop('color', axis=1, inplace=True)\n",
    "df_encoded"
   ]
  },
  {
   "cell_type": "code",
   "execution_count": 7,
   "id": "a2c36279",
   "metadata": {},
   "outputs": [
    {
     "data": {
      "text/html": [
       "<div>\n",
       "<style scoped>\n",
       "    .dataframe tbody tr th:only-of-type {\n",
       "        vertical-align: middle;\n",
       "    }\n",
       "\n",
       "    .dataframe tbody tr th {\n",
       "        vertical-align: top;\n",
       "    }\n",
       "\n",
       "    .dataframe thead th {\n",
       "        text-align: right;\n",
       "    }\n",
       "</style>\n",
       "<table border=\"1\" class=\"dataframe\">\n",
       "  <thead>\n",
       "    <tr style=\"text-align: right;\">\n",
       "      <th></th>\n",
       "      <th>label</th>\n",
       "      <th>color_blue</th>\n",
       "      <th>color_green</th>\n",
       "      <th>color_red</th>\n",
       "    </tr>\n",
       "  </thead>\n",
       "  <tbody>\n",
       "    <tr>\n",
       "      <th>label</th>\n",
       "      <td>1.000000</td>\n",
       "      <td>-0.333333</td>\n",
       "      <td>0.447214</td>\n",
       "      <td>0.000000</td>\n",
       "    </tr>\n",
       "    <tr>\n",
       "      <th>color_blue</th>\n",
       "      <td>-0.333333</td>\n",
       "      <td>1.000000</td>\n",
       "      <td>-0.447214</td>\n",
       "      <td>-0.707107</td>\n",
       "    </tr>\n",
       "    <tr>\n",
       "      <th>color_green</th>\n",
       "      <td>0.447214</td>\n",
       "      <td>-0.447214</td>\n",
       "      <td>1.000000</td>\n",
       "      <td>-0.316228</td>\n",
       "    </tr>\n",
       "    <tr>\n",
       "      <th>color_red</th>\n",
       "      <td>0.000000</td>\n",
       "      <td>-0.707107</td>\n",
       "      <td>-0.316228</td>\n",
       "      <td>1.000000</td>\n",
       "    </tr>\n",
       "  </tbody>\n",
       "</table>\n",
       "</div>"
      ],
      "text/plain": [
       "                label  color_blue  color_green  color_red\n",
       "label        1.000000   -0.333333     0.447214   0.000000\n",
       "color_blue  -0.333333    1.000000    -0.447214  -0.707107\n",
       "color_green  0.447214   -0.447214     1.000000  -0.316228\n",
       "color_red    0.000000   -0.707107    -0.316228   1.000000"
      ]
     },
     "execution_count": 7,
     "metadata": {},
     "output_type": "execute_result"
    }
   ],
   "source": [
    "# check correlations with one hot encoding\n",
    "df_encoded.corr()"
   ]
  },
  {
   "cell_type": "code",
   "execution_count": 8,
   "id": "f1a11002",
   "metadata": {},
   "outputs": [],
   "source": [
    "# Split the dataset into training and validation sets\n",
    "train_df, val_df = train_test_split(df, test_size=0.2, random_state=42)"
   ]
  },
  {
   "cell_type": "markdown",
   "id": "5f8592f2",
   "metadata": {},
   "source": [
    "We will now initialize a `TargetEncoder` from the `category_encoders` library and specify the `color` column as the one to be encoded.\n",
    "\n",
    "The default method used is the mean. However, you can choose different aggregation functions such as 'sum', 'count', 'median', 'min', 'max', etc. Additionally, you can also apply smoothing techniques to handle rare categories or prevent overfitting."
   ]
  },
  {
   "cell_type": "code",
   "execution_count": 9,
   "id": "ef032f4d",
   "metadata": {},
   "outputs": [],
   "source": [
    "# Initialize target encoder\n",
    "encoder = ce.TargetEncoder(cols=['color'])\n",
    "\n",
    "# If you want to change the default agg function mean to 'sum'.\n",
    "#encoder.fit(train_df['color'], train_df['label'], )\n"
   ]
  },
  {
   "cell_type": "markdown",
   "id": "3870f17b",
   "metadata": {},
   "source": [
    "Let us fit the encoder on the training data using `encoder.fit()`. This calculates the average label value for each category in the `color` column.\n",
    "\n",
    "For e.g. If the class blue occurs 2 times in the data and the corresponsing values in the label column are 0 and 1. The average value is (0+1)/2 = 0.5"
   ]
  },
  {
   "cell_type": "code",
   "execution_count": 10,
   "id": "07c82514",
   "metadata": {},
   "outputs": [
    {
     "data": {
      "text/html": [
       "<div>\n",
       "<style scoped>\n",
       "    .dataframe tbody tr th:only-of-type {\n",
       "        vertical-align: middle;\n",
       "    }\n",
       "\n",
       "    .dataframe tbody tr th {\n",
       "        vertical-align: top;\n",
       "    }\n",
       "\n",
       "    .dataframe thead th {\n",
       "        text-align: right;\n",
       "    }\n",
       "</style>\n",
       "<table border=\"1\" class=\"dataframe\">\n",
       "  <thead>\n",
       "    <tr style=\"text-align: right;\">\n",
       "      <th></th>\n",
       "      <th>color</th>\n",
       "      <th>label</th>\n",
       "    </tr>\n",
       "  </thead>\n",
       "  <tbody>\n",
       "    <tr>\n",
       "      <th>5</th>\n",
       "      <td>blue</td>\n",
       "      <td>0</td>\n",
       "    </tr>\n",
       "    <tr>\n",
       "      <th>4</th>\n",
       "      <td>blue</td>\n",
       "      <td>1</td>\n",
       "    </tr>\n",
       "  </tbody>\n",
       "</table>\n",
       "</div>"
      ],
      "text/plain": [
       "  color  label\n",
       "5  blue      0\n",
       "4  blue      1"
      ]
     },
     "execution_count": 10,
     "metadata": {},
     "output_type": "execute_result"
    }
   ],
   "source": [
    "train_df[train_df.color=='blue']"
   ]
  },
  {
   "cell_type": "code",
   "execution_count": 11,
   "id": "20f2f66c",
   "metadata": {},
   "outputs": [
    {
     "data": {
      "text/plain": [
       "TargetEncoder(cols=['color'])"
      ]
     },
     "execution_count": 11,
     "metadata": {},
     "output_type": "execute_result"
    }
   ],
   "source": [
    "# Fit the encoder on the training data\n",
    "encoder.fit(train_df['color'], train_df['label'], )"
   ]
  },
  {
   "cell_type": "code",
   "execution_count": 12,
   "id": "e8f86230",
   "metadata": {},
   "outputs": [],
   "source": [
    "# Transform the categorical variable in both training and validation sets\n",
    "train_encoded = encoder.transform(train_df['color'])\n",
    "val_encoded = encoder.transform(val_df['color'])"
   ]
  },
  {
   "cell_type": "code",
   "execution_count": 13,
   "id": "35c06dc7",
   "metadata": {},
   "outputs": [],
   "source": [
    "# Replace the original 'color' column with the encoded values\n",
    "train_df['color'] = train_encoded\n",
    "val_df['color'] = val_encoded\n"
   ]
  },
  {
   "cell_type": "code",
   "execution_count": 14,
   "id": "e4d6f937",
   "metadata": {},
   "outputs": [
    {
     "data": {
      "text/html": [
       "<div>\n",
       "<style scoped>\n",
       "    .dataframe tbody tr th:only-of-type {\n",
       "        vertical-align: middle;\n",
       "    }\n",
       "\n",
       "    .dataframe tbody tr th {\n",
       "        vertical-align: top;\n",
       "    }\n",
       "\n",
       "    .dataframe thead th {\n",
       "        text-align: right;\n",
       "    }\n",
       "</style>\n",
       "<table border=\"1\" class=\"dataframe\">\n",
       "  <thead>\n",
       "    <tr style=\"text-align: right;\">\n",
       "      <th></th>\n",
       "      <th>color</th>\n",
       "      <th>label</th>\n",
       "    </tr>\n",
       "  </thead>\n",
       "  <tbody>\n",
       "    <tr>\n",
       "      <th>5</th>\n",
       "      <td>0.500000</td>\n",
       "      <td>0</td>\n",
       "    </tr>\n",
       "    <tr>\n",
       "      <th>2</th>\n",
       "      <td>0.565054</td>\n",
       "      <td>1</td>\n",
       "    </tr>\n",
       "    <tr>\n",
       "      <th>4</th>\n",
       "      <td>0.500000</td>\n",
       "      <td>1</td>\n",
       "    </tr>\n",
       "    <tr>\n",
       "      <th>3</th>\n",
       "      <td>0.434946</td>\n",
       "      <td>0</td>\n",
       "    </tr>\n",
       "  </tbody>\n",
       "</table>\n",
       "</div>"
      ],
      "text/plain": [
       "      color  label\n",
       "5  0.500000      0\n",
       "2  0.565054      1\n",
       "4  0.500000      1\n",
       "3  0.434946      0"
      ]
     },
     "execution_count": 14,
     "metadata": {},
     "output_type": "execute_result"
    }
   ],
   "source": [
    "train_df"
   ]
  },
  {
   "cell_type": "code",
   "execution_count": 15,
   "id": "d1a514ab",
   "metadata": {},
   "outputs": [
    {
     "name": "stdout",
     "output_type": "stream",
     "text": [
      "Validation accuracy: 0.5\n"
     ]
    }
   ],
   "source": [
    "# Train a model on the encoded training set\n",
    "model = LogisticRegression()\n",
    "model.fit(train_df[['color']], train_df['label'])\n",
    "\n",
    "# Make predictions on the encoded validation set\n",
    "val_predictions = model.predict(val_df[['color']])\n",
    "\n",
    "# Evaluate the model's performance\n",
    "accuracy = accuracy_score(val_df['label'], val_predictions)\n",
    "print(\"Validation accuracy:\", accuracy)\n"
   ]
  },
  {
   "cell_type": "code",
   "execution_count": 16,
   "id": "61adf2db",
   "metadata": {},
   "outputs": [
    {
     "data": {
      "text/html": [
       "<div>\n",
       "<style scoped>\n",
       "    .dataframe tbody tr th:only-of-type {\n",
       "        vertical-align: middle;\n",
       "    }\n",
       "\n",
       "    .dataframe tbody tr th {\n",
       "        vertical-align: top;\n",
       "    }\n",
       "\n",
       "    .dataframe thead th {\n",
       "        text-align: right;\n",
       "    }\n",
       "</style>\n",
       "<table border=\"1\" class=\"dataframe\">\n",
       "  <thead>\n",
       "    <tr style=\"text-align: right;\">\n",
       "      <th></th>\n",
       "      <th>color</th>\n",
       "      <th>label</th>\n",
       "    </tr>\n",
       "  </thead>\n",
       "  <tbody>\n",
       "    <tr>\n",
       "      <th>color</th>\n",
       "      <td>1.000000</td>\n",
       "      <td>0.707107</td>\n",
       "    </tr>\n",
       "    <tr>\n",
       "      <th>label</th>\n",
       "      <td>0.707107</td>\n",
       "      <td>1.000000</td>\n",
       "    </tr>\n",
       "  </tbody>\n",
       "</table>\n",
       "</div>"
      ],
      "text/plain": [
       "          color     label\n",
       "color  1.000000  0.707107\n",
       "label  0.707107  1.000000"
      ]
     },
     "execution_count": 16,
     "metadata": {},
     "output_type": "execute_result"
    }
   ],
   "source": [
    "# check the correlation coefficient after target encoding\n",
    "train_df.corr()"
   ]
  },
  {
   "cell_type": "markdown",
   "id": "4074fc4e",
   "metadata": {},
   "source": [
    "    "
   ]
  },
  {
   "cell_type": "markdown",
   "id": "79d32665",
   "metadata": {},
   "source": [
    "### Using the 'soothing' argument"
   ]
  },
  {
   "cell_type": "markdown",
   "id": "e4fa54e9",
   "metadata": {},
   "source": [
    "Smoothing, also known as regularization, is a technique used in target encoding to mitigate the risk of overfitting and handle categories with limited observations. It introduces a balance between the category-specific mean (or other aggregate value) and the global mean of the target variable. Smoothing assigns a weighted average of these two values, with the weight determined by a smoothing parameter or hyperparameter."
   ]
  },
  {
   "cell_type": "code",
   "execution_count": 17,
   "id": "f8401683",
   "metadata": {},
   "outputs": [],
   "source": [
    "# Initialize target encoder with smoothing\n",
    "# smoothing_param = 0.5  # Adjust the smoothing parameter\n",
    "# encoder = ce.TargetEncoder(cols=['color'], smoothing=smoothing_param)"
   ]
  },
  {
   "cell_type": "markdown",
   "id": "09f75594",
   "metadata": {},
   "source": [
    "In this example, we added the smoothing parameter when initializing the TargetEncoder. The value of smoothing_param is set to 0.5, but you can adjust it according to your requirements.\n",
    "\n",
    "When smoothing is applied, the encoding calculation for each category combines the category-specific mean and the global mean. The weight given to the category-specific mean depends on the smoothing parameter. Higher values of smoothing parameter lead to a stronger influence of the global mean, while lower values give more weight to the category-specific mean.\n",
    "\n",
    "By incorporating smoothing, we reduce the impact of categories with sparse observations, preventing them from having extreme or unreliable target encodings. Smoothing helps to generalize the encoding and prevent overfitting by striking a balance between category-specific information and overall target variable distribution."
   ]
  },
  {
   "cell_type": "markdown",
   "id": "f396c1ad",
   "metadata": {},
   "source": [
    "    "
   ]
  },
  {
   "cell_type": "markdown",
   "id": "369dd078",
   "metadata": {},
   "source": [
    "## How to choose your aggregate function?"
   ]
  },
  {
   "cell_type": "markdown",
   "id": "deab1f45",
   "metadata": {},
   "source": [
    "The choice of aggregate function for target encoding depends on the nature of your dataset and the problem you are trying to solve. There is no one-size-fits-all answer, and it often requires experimentation and domain knowledge to determine the most appropriate function.\n",
    "\n",
    "For e.g.:\n",
    "\n",
    "1. **Mean:** The mean is a commonly used aggregate function for target encoding. It provides a balanced representation of the target variable within each category. It is suitable when the distribution of the target variable is relatively symmetric and there are no extreme outliers.\n",
    "\n",
    "2. **Sum:** Summing the target variable values within each category can be useful when the target variable represents a count or a cumulative measure. It may be suitable for problems where the cumulative effect or the total occurrence is important.\n",
    "\n",
    "3. **Count:** Counting the occurrences of each category in the target variable can be valuable when you want to capture the frequency or prevalence of each category. This can be particularly useful for imbalanced datasets or when the frequency of a category is informative.\n",
    "\n",
    "4. **Median:** The median can be a robust alternative to the mean, especially if the target variable is skewed or contains outliers. It provides a measure of the central tendency that is less influenced by extreme values.\n",
    "\n",
    "5. **Min/Max:** Using the minimum or maximum value of the target variable within each category can be relevant when you want to capture the extreme values or boundaries of the target variable for each category.\n",
    "\n",
    "These are just a few examples of aggregate functions you can consider. The choice also depends on the specific characteristics of your dataset and the problem at hand. You can also explore other aggregate functions such as `standard deviation`, `percentile`, or any custom function that captures meaningful information about the relationship between the categorical variable and the target variable.\n",
    "\n",
    "To select the best aggregate function, you can try multiple options and evaluate the impact on your model's performance. You can use validation techniques, such as cross-validation, to compare the performance of different encoding methods and choose the one that improves your model's accuracy, precision, recall, or other relevant metrics based on your problem domain."
   ]
  },
  {
   "cell_type": "code",
   "execution_count": null,
   "id": "00f2b052",
   "metadata": {},
   "outputs": [],
   "source": []
  }
 ],
 "metadata": {
  "kernelspec": {
   "display_name": "Python 3 (ipykernel)",
   "language": "python",
   "name": "python3"
  },
  "language_info": {
   "codemirror_mode": {
    "name": "ipython",
    "version": 3
   },
   "file_extension": ".py",
   "mimetype": "text/x-python",
   "name": "python",
   "nbconvert_exporter": "python",
   "pygments_lexer": "ipython3",
   "version": "3.9.7"
  }
 },
 "nbformat": 4,
 "nbformat_minor": 5
}
