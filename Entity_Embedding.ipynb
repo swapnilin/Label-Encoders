{
 "cells": [
  {
   "cell_type": "markdown",
   "id": "025a4c46",
   "metadata": {},
   "source": [
    "# Entity Embedding"
   ]
  },
  {
   "cell_type": "markdown",
   "id": "50e5a543",
   "metadata": {},
   "source": [
    "Perform entity embedding only if there is high cardinality. Or you can simply use one hot encoding or label encoding depending on the feature."
   ]
  },
  {
   "cell_type": "markdown",
   "id": "100d88a3",
   "metadata": {},
   "source": [
    "Let's create a pandas dataframe with a color feature with high cardinality.\n"
   ]
  },
  {
   "cell_type": "code",
   "execution_count": 2,
   "id": "47450a6c",
   "metadata": {},
   "outputs": [
    {
     "name": "stdout",
     "output_type": "stream",
     "text": [
      "      Color  Target\n",
      "0      Pink       0\n",
      "1     Green       1\n",
      "2     White       0\n",
      "3   Magenta       0\n",
      "4    Yellow       0\n",
      "5       Red       1\n",
      "6       Red       0\n",
      "7      Pink       0\n",
      "8      Gray       0\n",
      "9       Red       1\n",
      "10     Blue       0\n",
      "11     Gray       0\n",
      "12   Violet       0\n",
      "13    Green       0\n",
      "14   Violet       1\n",
      "15     Pink       0\n",
      "16    White       1\n",
      "17     Blue       1\n",
      "18   Orange       1\n",
      "19    White       0\n",
      "20   Purple       1\n",
      "21   Yellow       0\n",
      "22     Cyan       1\n",
      "23    White       1\n",
      "24  Magenta       1\n",
      "25    Green       1\n",
      "26     Gray       1\n",
      "27   Purple       1\n",
      "28   Yellow       1\n",
      "29   Violet       1\n",
      "30   Violet       0\n",
      "31    White       0\n",
      "32   Orange       1\n",
      "33   Violet       1\n",
      "34     Gray       1\n",
      "35    White       0\n",
      "36   Purple       1\n",
      "37   Orange       0\n",
      "38     Cyan       0\n",
      "39   Purple       0\n",
      "40    Black       0\n",
      "41   Violet       0\n",
      "42    White       1\n",
      "43   Indigo       1\n",
      "44     Gray       1\n",
      "45     Cyan       1\n",
      "46    Green       1\n",
      "47     Cyan       0\n",
      "48    White       1\n",
      "49    Black       1\n"
     ]
    }
   ],
   "source": [
    "\n",
    "import pandas as pd\n",
    "import numpy as np\n",
    "import random\n",
    "\n",
    "# Set random seed for reproducibility\n",
    "np.random.seed(42)\n",
    "\n",
    "# Define the number of rows and unique categories\n",
    "num_rows = 50\n",
    "num_categories = 15\n",
    "\n",
    "# List of color names\n",
    "color_names = ['Red', 'Orange', 'Yellow', 'Green', 'Blue', 'Indigo', 'Violet', 'White', 'Black', 'Gray', 'Pink', 'Brown', 'Cyan', 'Magenta', 'Purple']\n",
    "\n",
    "# Generate random categorical data\n",
    "categories = random.choices(color_names, k=num_rows)\n",
    "\n",
    "# Generate random flag values (0 and 1)\n",
    "flags = np.random.randint(2, size=num_rows)\n",
    "\n",
    "# Create the DataFrame\n",
    "df = pd.DataFrame({'Color': categories, 'Target': flags})\n",
    "df['Color'] = df['Color'].astype('category')\n",
    "\n",
    "# Display the DataFrame\n",
    "print(df)\n"
   ]
  },
  {
   "cell_type": "code",
   "execution_count": 3,
   "id": "1c324dc8",
   "metadata": {},
   "outputs": [
    {
     "name": "stderr",
     "output_type": "stream",
     "text": [
      "2023-06-14 22:38:34.038211: I tensorflow/core/platform/cpu_feature_guard.cc:193] This TensorFlow binary is optimized with oneAPI Deep Neural Network Library (oneDNN) to use the following CPU instructions in performance-critical operations:  AVX2 FMA\n",
      "To enable them in other operations, rebuild TensorFlow with the appropriate compiler flags.\n"
     ]
    }
   ],
   "source": [
    "import pandas as pd\n",
    "import numpy as np\n",
    "from keras.models import Model\n",
    "from keras.layers import Input, Embedding, Dense, Reshape, Concatenate\n",
    "from keras import backend as K\n"
   ]
  },
  {
   "cell_type": "markdown",
   "id": "b9dae90e",
   "metadata": {},
   "source": [
    "Steps to perform categorical label encoding for the `Color` variable.\n",
    "\n",
    "* First, we will create an empty list. (if you have your data split already, then create two empty lists, one for the training data, and the other for the test data.)\n",
    "* Next, create an empty dictionary called `cat_encoder`. This dictionary will be used to save the label encodings for the categorical variable `Color`.\n",
    "* Then, all the unique values for `Color` are extracted and saved in a variable called `unique_cat`. There are 14 unique Colors in the dataset.\n",
    "* Then, we loop through each color and assign an integer to the color.\n",
    "* Finally, we print the `cat_encoder` and we can see that each color is a key and each key has an integer as a value. "
   ]
  },
  {
   "cell_type": "code",
   "execution_count": 6,
   "id": "e3631558",
   "metadata": {},
   "outputs": [
    {
     "name": "stdout",
     "output_type": "stream",
     "text": [
      "There are 14 unique colors in the dataset.\n",
      "\n"
     ]
    },
    {
     "data": {
      "text/plain": [
       "{'Black': 0,\n",
       " 'Blue': 1,\n",
       " 'Cyan': 2,\n",
       " 'Gray': 3,\n",
       " 'Green': 4,\n",
       " 'Indigo': 5,\n",
       " 'Magenta': 6,\n",
       " 'Orange': 7,\n",
       " 'Pink': 8,\n",
       " 'Purple': 9,\n",
       " 'Red': 10,\n",
       " 'Violet': 11,\n",
       " 'White': 12,\n",
       " 'Yellow': 13}"
      ]
     },
     "execution_count": 6,
     "metadata": {},
     "output_type": "execute_result"
    }
   ],
   "source": [
    "# Input list for the data\n",
    "input_list = []\n",
    "\n",
    "# Categorical encoder is in dictionary format\n",
    "cat_encoder = {}\n",
    "\n",
    "# Unique values for the categorical variable\n",
    "unique_cat = np.unique(df['Color'])\n",
    "\n",
    "# Print out the number of unique values in the categorical variable\n",
    "print(f'There are {len(unique_cat)} unique colors in the dataset.\\n')\n",
    "\n",
    "# Encode the categorical variable\n",
    "for i in range(len(unique_cat)):\n",
    "  cat_encoder[unique_cat[i]] = i\n",
    "\n",
    "# Take a look at the encoder\n",
    "cat_encoder"
   ]
  },
  {
   "cell_type": "code",
   "execution_count": 7,
   "id": "8038f31e",
   "metadata": {},
   "outputs": [],
   "source": [
    "# Append the values to the input list\n",
    "input_list.append(df['Color'].map(cat_encoder).values)"
   ]
  },
  {
   "cell_type": "code",
   "execution_count": 41,
   "id": "42b62d65",
   "metadata": {},
   "outputs": [
    {
     "data": {
      "text/plain": [
       "[[2, 1, 3, 7, 7, ..., 6, 3, 4, 9, 11]\n",
       " Length: 50\n",
       " Categories (14, int64): [0, 1, 2, 3, ..., 10, 11, 12, 13]]"
      ]
     },
     "execution_count": 41,
     "metadata": {},
     "output_type": "execute_result"
    }
   ],
   "source": [
    "input_list"
   ]
  },
  {
   "cell_type": "markdown",
   "id": "3046e262",
   "metadata": {},
   "source": [
    "    "
   ]
  },
  {
   "cell_type": "markdown",
   "id": "baf3d5a9",
   "metadata": {},
   "source": [
    "Now, we will build a model with categorical entity embedding.\n",
    "\n",
    "First, let's create the embedding layer using the `Embedding` function in keras.\n",
    "\n",
    "* `input_dim` is the number of unique values for the categorical column. In this example, it is the number of unique colors.\n",
    "* `output_dim` is the dimension of the embedding output. <br>\n",
    "How to decide this number? The authors of the [entity embedding paper](https://arxiv.org/pdf/1604.06737.pdf) mentioned that it is a hyperparameter value to tune with the range of 1 to the number of categories minus 1. The authors proposed two general guidelines:\n",
    " * If the number of aspects to describe the entities can be estimated, we can use that as the `output_dim`. More complex entities usually need more output dimensions. \n",
    "For example, from the German Credit Risk dataset, `Number of dependants` can be described by Age, Income, Applicant Income, Marital Status, so we can set 4 as the number of output dimensions. In our case of `Color`, we will set it as 6, just for code implementation. Since this is an hyperparameter you can test out multiple values and choose the best based on the model performance.\n",
    " * If the number of aspects to describe the entities cannot be estimated, then start with the highest possible number of dimensions, which is the number of categories minus 1 for the hyperparameter tuning. \n",
    " * You can also set the number of dimensions as equal to the square root of the number of unique values for the category.\n",
    "* `name` gives a name for the layer.\n",
    "* The input dimension of the categorical variable is defined by the `Input` function. `Input()` is used to instantiate a Keras tensor. `shape=(1,)` indicates that the expected input will be a one-dimensional vector.\n",
    "* `Reshape` changed the output from 3-dimensional to 2-dimensional."
   ]
  },
  {
   "cell_type": "code",
   "execution_count": 8,
   "id": "6c06ecc4",
   "metadata": {},
   "outputs": [
    {
     "name": "stdout",
     "output_type": "stream",
     "text": [
      "KerasTensor(type_spec=TensorSpec(shape=(None, 1, 6), dtype=tf.float32, name=None), name='embedding_cat/embedding_lookup/Identity_1:0', description=\"created by layer 'embedding_cat'\")\n",
      "KerasTensor(type_spec=TensorSpec(shape=(None, 6), dtype=tf.float32, name=None), name='reshape/Reshape:0', description=\"created by layer 'reshape'\")\n"
     ]
    },
    {
     "name": "stderr",
     "output_type": "stream",
     "text": [
      "2023-06-14 22:48:28.566667: I tensorflow/core/platform/cpu_feature_guard.cc:193] This TensorFlow binary is optimized with oneAPI Deep Neural Network Library (oneDNN) to use the following CPU instructions in performance-critical operations:  AVX2 FMA\n",
      "To enable them in other operations, rebuild TensorFlow with the appropriate compiler flags.\n"
     ]
    }
   ],
   "source": [
    "# Number of unique values in the categorical col\n",
    "n_unique_cat = len(unique_cat)\n",
    "\n",
    "# Input dimension of the categorical variable\n",
    "input_cat = Input(shape=(1,))\n",
    "\n",
    "# Output dimension of the categorical entity embedding\n",
    "cat_emb_dim = 6\n",
    "\n",
    "# Embedding layer\n",
    "emb_cat = Embedding(input_dim=n_unique_cat, output_dim=cat_emb_dim, name=\"embedding_cat\")(input_cat)\n",
    "\n",
    "# Check the output shape\n",
    "print(emb_cat)\n",
    "\n",
    "# Reshape\n",
    "emb_cat = Reshape(target_shape=(cat_emb_dim, ))(emb_cat)\n",
    "\n",
    "# Check the output shape\n",
    "print(emb_cat)"
   ]
  },
  {
   "cell_type": "code",
   "execution_count": 56,
   "id": "c7a3cffa",
   "metadata": {},
   "outputs": [
    {
     "data": {
      "text/plain": [
       "keras.engine.keras_tensor.KerasTensor"
      ]
     },
     "execution_count": 56,
     "metadata": {},
     "output_type": "execute_result"
    }
   ],
   "source": [
    "type(emb_cat)"
   ]
  },
  {
   "cell_type": "markdown",
   "id": "02de17ab",
   "metadata": {},
   "source": [
    "This is a keras symbolic tensor. It helps you build a model framework so that it is ready to accept the input anytime later. To view the embeddings, you need to convert the symbolic tensor to a tensor by first feeding the network with the data."
   ]
  },
  {
   "cell_type": "code",
   "execution_count": 65,
   "id": "7f6dd83b",
   "metadata": {},
   "outputs": [
    {
     "data": {
      "text/plain": [
       "TensorShape([None, 6])"
      ]
     },
     "execution_count": 65,
     "metadata": {},
     "output_type": "execute_result"
    }
   ],
   "source": [
    "emb_cat.shape"
   ]
  },
  {
   "cell_type": "markdown",
   "id": "6fc3f8d6",
   "metadata": {},
   "source": [
    "The categorical variable has a dimension of 6 because we specified the embedding dimension to be 6 in the embedding layer."
   ]
  },
  {
   "cell_type": "markdown",
   "id": "d34650f0",
   "metadata": {},
   "source": [
    "We don't need a compilcated model here since there is not much data.\n",
    "\n",
    "The data is passed in the `Dense` layer of the model. \n",
    "* The first `Dense` layer has 3 neurons. `relu` is the activation function.\n",
    "* The output layer has one neuron, and the activation function is `sigmoid` because the target variable `Target` is a binary variable.\n",
    "\n",
    "Then the `emb_cat` and `outputs` are grouped into an object using the `Model` function.\n",
    "* `inputs` takes in the inputs of the model. It can be a `Keras` `Input` object or a list of `Keras` `Input` objects. As the [Keras documentation](https://keras.io/api/models/model/) points out, Only dictionaries, lists, and tuples of input tensors are supported. Nested inputs such as a list of lists or a dictionary of dictionaries are not supported.\n",
    "* `outputs` takes in the outputs of the model.\n",
    "* `name` is the name of the model. We gave our model the name of `Entity_embedding_model_keras`.\n",
    "\n",
    "We can print out the model details using the `summary` function. "
   ]
  },
  {
   "cell_type": "markdown",
   "id": "98959cef",
   "metadata": {},
   "source": [
    "    "
   ]
  },
  {
   "cell_type": "code",
   "execution_count": 10,
   "id": "648f2a2d",
   "metadata": {},
   "outputs": [
    {
     "name": "stdout",
     "output_type": "stream",
     "text": [
      "Model: \"Entity_embedding_model_keras\"\n",
      "_________________________________________________________________\n",
      " Layer (type)                Output Shape              Param #   \n",
      "=================================================================\n",
      " input_1 (InputLayer)        [(None, 1)]               0         \n",
      "                                                                 \n",
      " embedding_cat (Embedding)   (None, 1, 6)              84        \n",
      "                                                                 \n",
      " reshape (Reshape)           (None, 6)                 0         \n",
      "                                                                 \n",
      " dense_3 (Dense)             (None, 3)                 21        \n",
      "                                                                 \n",
      " dense_4 (Dense)             (None, 1)                 4         \n",
      "                                                                 \n",
      "=================================================================\n",
      "Total params: 109\n",
      "Trainable params: 109\n",
      "Non-trainable params: 0\n",
      "_________________________________________________________________\n"
     ]
    }
   ],
   "source": [
    "# Dense layer with 3 neurons and relu activation function\n",
    "model = Dense(3, activation = 'relu')(emb_cat)\n",
    "\n",
    "# Output is linear\n",
    "outputs = Dense(1, activation = 'sigmoid')(model)\n",
    "\n",
    "# Use Model to group layers into an object with training and inference features\n",
    "nn = Model(inputs=input_cat, outputs=outputs, name ='Entity_embedding_model_keras')\n",
    "\n",
    "# Print out the model summary\n",
    "nn.summary()"
   ]
  },
  {
   "cell_type": "markdown",
   "id": "5d846bc5",
   "metadata": {},
   "source": [
    "    "
   ]
  },
  {
   "cell_type": "code",
   "execution_count": 11,
   "id": "a3bd83a3",
   "metadata": {},
   "outputs": [],
   "source": [
    "#!pip install pydot"
   ]
  },
  {
   "cell_type": "code",
   "execution_count": 12,
   "id": "043c86b6",
   "metadata": {},
   "outputs": [],
   "source": [
    "# Visualize neural network model structure\n",
    "from keras.utils import plot_model\n",
    "from IPython.display import Image\n",
    "import graphviz\n",
    "import pydot\n",
    "# Deep learning model\n",
    "from tensorflow.keras.layers import Input, Dense, Reshape, Concatenate, Embedding\n",
    "from tensorflow.keras.models import Model, load_model\n",
    "from keras.callbacks import EarlyStopping"
   ]
  },
  {
   "cell_type": "code",
   "execution_count": 13,
   "id": "960a5bd3",
   "metadata": {},
   "outputs": [
    {
     "name": "stdout",
     "output_type": "stream",
     "text": [
      "You must install pydot (`pip install pydot`) and install graphviz (see instructions at https://graphviz.gitlab.io/download/) for plot_model to work.\n"
     ]
    }
   ],
   "source": [
    "# Print model structure\n",
    "plot_model(nn, show_shapes=True, show_layer_names=True, to_file='Entity_embedding_model_keras.png')\n",
    "#Image(retina=True, filename='Entity_embedding_model_keras.png')"
   ]
  },
  {
   "cell_type": "code",
   "execution_count": 89,
   "id": "5f7313ab",
   "metadata": {},
   "outputs": [
    {
     "data": {
      "text/plain": [
       "numpy.ndarray"
      ]
     },
     "execution_count": 89,
     "metadata": {},
     "output_type": "execute_result"
    }
   ],
   "source": [
    "# check input type\n",
    "type(input_list)"
   ]
  },
  {
   "cell_type": "code",
   "execution_count": 80,
   "id": "2f51f2a0",
   "metadata": {},
   "outputs": [],
   "source": [
    "# convert to array\n",
    "input_list = np.array(input_list)"
   ]
  },
  {
   "cell_type": "code",
   "execution_count": 85,
   "id": "69862559",
   "metadata": {},
   "outputs": [
    {
     "data": {
      "text/plain": [
       "array([[ 2,  1,  3,  7,  7, 12,  3,  1,  6, 13,  7,  6,  3, 13,  6, 10,\n",
       "        10,  4,  0,  6,  5,  8, 11,  2,  1,  5,  5,  9,  3,  5,  4, 12,\n",
       "         7, 12, 11,  5,  5, 11,  0,  9, 10,  0,  9, 11,  2,  6,  3,  4,\n",
       "         9, 11]])"
      ]
     },
     "execution_count": 85,
     "metadata": {},
     "output_type": "execute_result"
    }
   ],
   "source": [
    "input_list"
   ]
  },
  {
   "cell_type": "code",
   "execution_count": 82,
   "id": "39b3bd61",
   "metadata": {},
   "outputs": [
    {
     "data": {
      "text/plain": [
       "numpy.ndarray"
      ]
     },
     "execution_count": 82,
     "metadata": {},
     "output_type": "execute_result"
    }
   ],
   "source": [
    "# verify\n",
    "type(input_list)"
   ]
  },
  {
   "cell_type": "code",
   "execution_count": 84,
   "id": "d6cab769",
   "metadata": {},
   "outputs": [
    {
     "data": {
      "text/plain": [
       "(1, 50)"
      ]
     },
     "execution_count": 84,
     "metadata": {},
     "output_type": "execute_result"
    }
   ],
   "source": [
    "# check dimension\n",
    "input_list.shape"
   ]
  },
  {
   "cell_type": "code",
   "execution_count": 20,
   "id": "073563fd",
   "metadata": {},
   "outputs": [],
   "source": [
    "# reshape\n",
    "input_list = np.reshape(input_list, (50, 1))"
   ]
  },
  {
   "cell_type": "code",
   "execution_count": 22,
   "id": "0588362c",
   "metadata": {},
   "outputs": [
    {
     "data": {
      "text/plain": [
       "(50, 1)"
      ]
     },
     "execution_count": 22,
     "metadata": {},
     "output_type": "execute_result"
    }
   ],
   "source": [
    "# check dimension. This is required for the model\n",
    "input_list.shape"
   ]
  },
  {
   "cell_type": "code",
   "execution_count": 23,
   "id": "0f893c41",
   "metadata": {},
   "outputs": [
    {
     "name": "stdout",
     "output_type": "stream",
     "text": [
      "Epoch 1/2\n",
      "2/2 [==============================] - 1s 21ms/step - loss: 0.0000e+00 - accuracy: 0.5200\n",
      "Epoch 2/2\n",
      "2/2 [==============================] - 0s 11ms/step - loss: 0.0000e+00 - accuracy: 0.5200\n"
     ]
    }
   ],
   "source": [
    "# compile model\n",
    "nn.compile(loss='categorical_crossentropy', optimizer='adam', metrics=['accuracy'])\n",
    "\n",
    "# Fit the model\n",
    "history  =  nn.fit(input_list,\n",
    "                   df.Target, \n",
    "                   epochs=2,  \n",
    "                   verbose=1)"
   ]
  },
  {
   "cell_type": "markdown",
   "id": "cf220053",
   "metadata": {},
   "source": [
    "    "
   ]
  },
  {
   "cell_type": "markdown",
   "id": "a10a1e84",
   "metadata": {},
   "source": [
    "The weights are extracted from the embedding layer and saved in a dataframe. We can see that the dataframe has 14 rows, each row representing one unique color. There are 7 columns in the dataframe. The first column is the encoded categorical index, the other 6 columns are the embeddings."
   ]
  },
  {
   "cell_type": "code",
   "execution_count": 24,
   "id": "84a9c84e",
   "metadata": {},
   "outputs": [
    {
     "data": {
      "text/html": [
       "<div>\n",
       "<style scoped>\n",
       "    .dataframe tbody tr th:only-of-type {\n",
       "        vertical-align: middle;\n",
       "    }\n",
       "\n",
       "    .dataframe tbody tr th {\n",
       "        vertical-align: top;\n",
       "    }\n",
       "\n",
       "    .dataframe thead th {\n",
       "        text-align: right;\n",
       "    }\n",
       "</style>\n",
       "<table border=\"1\" class=\"dataframe\">\n",
       "  <thead>\n",
       "    <tr style=\"text-align: right;\">\n",
       "      <th></th>\n",
       "      <th>cat_index</th>\n",
       "      <th>cat_0</th>\n",
       "      <th>cat_1</th>\n",
       "      <th>cat_2</th>\n",
       "      <th>cat_3</th>\n",
       "      <th>cat_4</th>\n",
       "      <th>cat_5</th>\n",
       "    </tr>\n",
       "  </thead>\n",
       "  <tbody>\n",
       "    <tr>\n",
       "      <th>0</th>\n",
       "      <td>0</td>\n",
       "      <td>0.027591</td>\n",
       "      <td>-0.007130</td>\n",
       "      <td>-0.002562</td>\n",
       "      <td>0.027505</td>\n",
       "      <td>-0.031295</td>\n",
       "      <td>0.047634</td>\n",
       "    </tr>\n",
       "    <tr>\n",
       "      <th>1</th>\n",
       "      <td>1</td>\n",
       "      <td>-0.039307</td>\n",
       "      <td>0.001249</td>\n",
       "      <td>0.047699</td>\n",
       "      <td>-0.010845</td>\n",
       "      <td>-0.010499</td>\n",
       "      <td>0.030539</td>\n",
       "    </tr>\n",
       "    <tr>\n",
       "      <th>2</th>\n",
       "      <td>2</td>\n",
       "      <td>0.047044</td>\n",
       "      <td>-0.043243</td>\n",
       "      <td>0.026318</td>\n",
       "      <td>0.029448</td>\n",
       "      <td>-0.000237</td>\n",
       "      <td>-0.022817</td>\n",
       "    </tr>\n",
       "    <tr>\n",
       "      <th>3</th>\n",
       "      <td>3</td>\n",
       "      <td>0.016779</td>\n",
       "      <td>0.013475</td>\n",
       "      <td>-0.016772</td>\n",
       "      <td>-0.011804</td>\n",
       "      <td>-0.020719</td>\n",
       "      <td>0.003271</td>\n",
       "    </tr>\n",
       "    <tr>\n",
       "      <th>4</th>\n",
       "      <td>4</td>\n",
       "      <td>0.004641</td>\n",
       "      <td>-0.003226</td>\n",
       "      <td>-0.025481</td>\n",
       "      <td>0.032866</td>\n",
       "      <td>0.004565</td>\n",
       "      <td>-0.023950</td>\n",
       "    </tr>\n",
       "    <tr>\n",
       "      <th>5</th>\n",
       "      <td>5</td>\n",
       "      <td>-0.048152</td>\n",
       "      <td>-0.018079</td>\n",
       "      <td>0.041361</td>\n",
       "      <td>0.045231</td>\n",
       "      <td>0.028738</td>\n",
       "      <td>0.022594</td>\n",
       "    </tr>\n",
       "    <tr>\n",
       "      <th>6</th>\n",
       "      <td>6</td>\n",
       "      <td>-0.025324</td>\n",
       "      <td>-0.044873</td>\n",
       "      <td>-0.042644</td>\n",
       "      <td>-0.034860</td>\n",
       "      <td>0.002117</td>\n",
       "      <td>0.036049</td>\n",
       "    </tr>\n",
       "    <tr>\n",
       "      <th>7</th>\n",
       "      <td>7</td>\n",
       "      <td>-0.029444</td>\n",
       "      <td>-0.018251</td>\n",
       "      <td>-0.046729</td>\n",
       "      <td>0.015960</td>\n",
       "      <td>0.046416</td>\n",
       "      <td>0.001486</td>\n",
       "    </tr>\n",
       "    <tr>\n",
       "      <th>8</th>\n",
       "      <td>8</td>\n",
       "      <td>-0.007883</td>\n",
       "      <td>0.035574</td>\n",
       "      <td>0.024529</td>\n",
       "      <td>0.007265</td>\n",
       "      <td>0.007155</td>\n",
       "      <td>0.028600</td>\n",
       "    </tr>\n",
       "    <tr>\n",
       "      <th>9</th>\n",
       "      <td>9</td>\n",
       "      <td>-0.019481</td>\n",
       "      <td>-0.037562</td>\n",
       "      <td>-0.007163</td>\n",
       "      <td>-0.006064</td>\n",
       "      <td>0.031657</td>\n",
       "      <td>-0.037620</td>\n",
       "    </tr>\n",
       "    <tr>\n",
       "      <th>10</th>\n",
       "      <td>10</td>\n",
       "      <td>-0.018847</td>\n",
       "      <td>0.013756</td>\n",
       "      <td>-0.013553</td>\n",
       "      <td>-0.037242</td>\n",
       "      <td>-0.027826</td>\n",
       "      <td>-0.003859</td>\n",
       "    </tr>\n",
       "    <tr>\n",
       "      <th>11</th>\n",
       "      <td>11</td>\n",
       "      <td>0.004919</td>\n",
       "      <td>0.009778</td>\n",
       "      <td>0.009305</td>\n",
       "      <td>-0.040910</td>\n",
       "      <td>-0.021074</td>\n",
       "      <td>-0.003402</td>\n",
       "    </tr>\n",
       "    <tr>\n",
       "      <th>12</th>\n",
       "      <td>12</td>\n",
       "      <td>0.036970</td>\n",
       "      <td>0.030319</td>\n",
       "      <td>-0.019715</td>\n",
       "      <td>0.033713</td>\n",
       "      <td>0.032640</td>\n",
       "      <td>-0.006592</td>\n",
       "    </tr>\n",
       "    <tr>\n",
       "      <th>13</th>\n",
       "      <td>13</td>\n",
       "      <td>0.001949</td>\n",
       "      <td>0.035294</td>\n",
       "      <td>-0.016760</td>\n",
       "      <td>0.040453</td>\n",
       "      <td>-0.040458</td>\n",
       "      <td>0.004130</td>\n",
       "    </tr>\n",
       "  </tbody>\n",
       "</table>\n",
       "</div>"
      ],
      "text/plain": [
       "    cat_index     cat_0     cat_1     cat_2     cat_3     cat_4     cat_5\n",
       "0           0  0.027591 -0.007130 -0.002562  0.027505 -0.031295  0.047634\n",
       "1           1 -0.039307  0.001249  0.047699 -0.010845 -0.010499  0.030539\n",
       "2           2  0.047044 -0.043243  0.026318  0.029448 -0.000237 -0.022817\n",
       "3           3  0.016779  0.013475 -0.016772 -0.011804 -0.020719  0.003271\n",
       "4           4  0.004641 -0.003226 -0.025481  0.032866  0.004565 -0.023950\n",
       "5           5 -0.048152 -0.018079  0.041361  0.045231  0.028738  0.022594\n",
       "6           6 -0.025324 -0.044873 -0.042644 -0.034860  0.002117  0.036049\n",
       "7           7 -0.029444 -0.018251 -0.046729  0.015960  0.046416  0.001486\n",
       "8           8 -0.007883  0.035574  0.024529  0.007265  0.007155  0.028600\n",
       "9           9 -0.019481 -0.037562 -0.007163 -0.006064  0.031657 -0.037620\n",
       "10         10 -0.018847  0.013756 -0.013553 -0.037242 -0.027826 -0.003859\n",
       "11         11  0.004919  0.009778  0.009305 -0.040910 -0.021074 -0.003402\n",
       "12         12  0.036970  0.030319 -0.019715  0.033713  0.032640 -0.006592\n",
       "13         13  0.001949  0.035294 -0.016760  0.040453 -0.040458  0.004130"
      ]
     },
     "execution_count": 24,
     "metadata": {},
     "output_type": "execute_result"
    }
   ],
   "source": [
    "# Get weights from the embedding layer\n",
    "cat_emb_df = pd.DataFrame(nn.get_layer('embedding_cat').get_weights()[0]).reset_index()\n",
    "\n",
    "# Add prefix to the embedding names\n",
    "cat_emb_df = cat_emb_df.add_prefix('cat_')\n",
    "\n",
    "# Take a look at the data\n",
    "cat_emb_df"
   ]
  },
  {
   "cell_type": "markdown",
   "id": "75b7a598",
   "metadata": {},
   "source": [
    "    "
   ]
  },
  {
   "cell_type": "code",
   "execution_count": 26,
   "id": "4d99f85a",
   "metadata": {},
   "outputs": [
    {
     "data": {
      "text/html": [
       "<div>\n",
       "<style scoped>\n",
       "    .dataframe tbody tr th:only-of-type {\n",
       "        vertical-align: middle;\n",
       "    }\n",
       "\n",
       "    .dataframe tbody tr th {\n",
       "        vertical-align: top;\n",
       "    }\n",
       "\n",
       "    .dataframe thead th {\n",
       "        text-align: right;\n",
       "    }\n",
       "</style>\n",
       "<table border=\"1\" class=\"dataframe\">\n",
       "  <thead>\n",
       "    <tr style=\"text-align: right;\">\n",
       "      <th></th>\n",
       "      <th>cat</th>\n",
       "      <th>cat_index</th>\n",
       "      <th>cat_0</th>\n",
       "      <th>cat_1</th>\n",
       "      <th>cat_2</th>\n",
       "      <th>cat_3</th>\n",
       "      <th>cat_4</th>\n",
       "      <th>cat_5</th>\n",
       "    </tr>\n",
       "  </thead>\n",
       "  <tbody>\n",
       "    <tr>\n",
       "      <th>0</th>\n",
       "      <td>Black</td>\n",
       "      <td>0</td>\n",
       "      <td>0.027591</td>\n",
       "      <td>-0.007130</td>\n",
       "      <td>-0.002562</td>\n",
       "      <td>0.027505</td>\n",
       "      <td>-0.031295</td>\n",
       "      <td>0.047634</td>\n",
       "    </tr>\n",
       "    <tr>\n",
       "      <th>1</th>\n",
       "      <td>Blue</td>\n",
       "      <td>1</td>\n",
       "      <td>-0.039307</td>\n",
       "      <td>0.001249</td>\n",
       "      <td>0.047699</td>\n",
       "      <td>-0.010845</td>\n",
       "      <td>-0.010499</td>\n",
       "      <td>0.030539</td>\n",
       "    </tr>\n",
       "    <tr>\n",
       "      <th>2</th>\n",
       "      <td>Cyan</td>\n",
       "      <td>2</td>\n",
       "      <td>0.047044</td>\n",
       "      <td>-0.043243</td>\n",
       "      <td>0.026318</td>\n",
       "      <td>0.029448</td>\n",
       "      <td>-0.000237</td>\n",
       "      <td>-0.022817</td>\n",
       "    </tr>\n",
       "    <tr>\n",
       "      <th>3</th>\n",
       "      <td>Gray</td>\n",
       "      <td>3</td>\n",
       "      <td>0.016779</td>\n",
       "      <td>0.013475</td>\n",
       "      <td>-0.016772</td>\n",
       "      <td>-0.011804</td>\n",
       "      <td>-0.020719</td>\n",
       "      <td>0.003271</td>\n",
       "    </tr>\n",
       "    <tr>\n",
       "      <th>4</th>\n",
       "      <td>Green</td>\n",
       "      <td>4</td>\n",
       "      <td>0.004641</td>\n",
       "      <td>-0.003226</td>\n",
       "      <td>-0.025481</td>\n",
       "      <td>0.032866</td>\n",
       "      <td>0.004565</td>\n",
       "      <td>-0.023950</td>\n",
       "    </tr>\n",
       "    <tr>\n",
       "      <th>5</th>\n",
       "      <td>Indigo</td>\n",
       "      <td>5</td>\n",
       "      <td>-0.048152</td>\n",
       "      <td>-0.018079</td>\n",
       "      <td>0.041361</td>\n",
       "      <td>0.045231</td>\n",
       "      <td>0.028738</td>\n",
       "      <td>0.022594</td>\n",
       "    </tr>\n",
       "    <tr>\n",
       "      <th>6</th>\n",
       "      <td>Magenta</td>\n",
       "      <td>6</td>\n",
       "      <td>-0.025324</td>\n",
       "      <td>-0.044873</td>\n",
       "      <td>-0.042644</td>\n",
       "      <td>-0.034860</td>\n",
       "      <td>0.002117</td>\n",
       "      <td>0.036049</td>\n",
       "    </tr>\n",
       "    <tr>\n",
       "      <th>7</th>\n",
       "      <td>Orange</td>\n",
       "      <td>7</td>\n",
       "      <td>-0.029444</td>\n",
       "      <td>-0.018251</td>\n",
       "      <td>-0.046729</td>\n",
       "      <td>0.015960</td>\n",
       "      <td>0.046416</td>\n",
       "      <td>0.001486</td>\n",
       "    </tr>\n",
       "    <tr>\n",
       "      <th>8</th>\n",
       "      <td>Pink</td>\n",
       "      <td>8</td>\n",
       "      <td>-0.007883</td>\n",
       "      <td>0.035574</td>\n",
       "      <td>0.024529</td>\n",
       "      <td>0.007265</td>\n",
       "      <td>0.007155</td>\n",
       "      <td>0.028600</td>\n",
       "    </tr>\n",
       "    <tr>\n",
       "      <th>9</th>\n",
       "      <td>Purple</td>\n",
       "      <td>9</td>\n",
       "      <td>-0.019481</td>\n",
       "      <td>-0.037562</td>\n",
       "      <td>-0.007163</td>\n",
       "      <td>-0.006064</td>\n",
       "      <td>0.031657</td>\n",
       "      <td>-0.037620</td>\n",
       "    </tr>\n",
       "    <tr>\n",
       "      <th>10</th>\n",
       "      <td>Red</td>\n",
       "      <td>10</td>\n",
       "      <td>-0.018847</td>\n",
       "      <td>0.013756</td>\n",
       "      <td>-0.013553</td>\n",
       "      <td>-0.037242</td>\n",
       "      <td>-0.027826</td>\n",
       "      <td>-0.003859</td>\n",
       "    </tr>\n",
       "    <tr>\n",
       "      <th>11</th>\n",
       "      <td>Violet</td>\n",
       "      <td>11</td>\n",
       "      <td>0.004919</td>\n",
       "      <td>0.009778</td>\n",
       "      <td>0.009305</td>\n",
       "      <td>-0.040910</td>\n",
       "      <td>-0.021074</td>\n",
       "      <td>-0.003402</td>\n",
       "    </tr>\n",
       "    <tr>\n",
       "      <th>12</th>\n",
       "      <td>White</td>\n",
       "      <td>12</td>\n",
       "      <td>0.036970</td>\n",
       "      <td>0.030319</td>\n",
       "      <td>-0.019715</td>\n",
       "      <td>0.033713</td>\n",
       "      <td>0.032640</td>\n",
       "      <td>-0.006592</td>\n",
       "    </tr>\n",
       "    <tr>\n",
       "      <th>13</th>\n",
       "      <td>Yellow</td>\n",
       "      <td>13</td>\n",
       "      <td>0.001949</td>\n",
       "      <td>0.035294</td>\n",
       "      <td>-0.016760</td>\n",
       "      <td>0.040453</td>\n",
       "      <td>-0.040458</td>\n",
       "      <td>0.004130</td>\n",
       "    </tr>\n",
       "  </tbody>\n",
       "</table>\n",
       "</div>"
      ],
      "text/plain": [
       "        cat  cat_index     cat_0     cat_1     cat_2     cat_3     cat_4  \\\n",
       "0     Black          0  0.027591 -0.007130 -0.002562  0.027505 -0.031295   \n",
       "1      Blue          1 -0.039307  0.001249  0.047699 -0.010845 -0.010499   \n",
       "2      Cyan          2  0.047044 -0.043243  0.026318  0.029448 -0.000237   \n",
       "3      Gray          3  0.016779  0.013475 -0.016772 -0.011804 -0.020719   \n",
       "4     Green          4  0.004641 -0.003226 -0.025481  0.032866  0.004565   \n",
       "5    Indigo          5 -0.048152 -0.018079  0.041361  0.045231  0.028738   \n",
       "6   Magenta          6 -0.025324 -0.044873 -0.042644 -0.034860  0.002117   \n",
       "7    Orange          7 -0.029444 -0.018251 -0.046729  0.015960  0.046416   \n",
       "8      Pink          8 -0.007883  0.035574  0.024529  0.007265  0.007155   \n",
       "9    Purple          9 -0.019481 -0.037562 -0.007163 -0.006064  0.031657   \n",
       "10      Red         10 -0.018847  0.013756 -0.013553 -0.037242 -0.027826   \n",
       "11   Violet         11  0.004919  0.009778  0.009305 -0.040910 -0.021074   \n",
       "12    White         12  0.036970  0.030319 -0.019715  0.033713  0.032640   \n",
       "13   Yellow         13  0.001949  0.035294 -0.016760  0.040453 -0.040458   \n",
       "\n",
       "       cat_5  \n",
       "0   0.047634  \n",
       "1   0.030539  \n",
       "2  -0.022817  \n",
       "3   0.003271  \n",
       "4  -0.023950  \n",
       "5   0.022594  \n",
       "6   0.036049  \n",
       "7   0.001486  \n",
       "8   0.028600  \n",
       "9  -0.037620  \n",
       "10 -0.003859  \n",
       "11 -0.003402  \n",
       "12 -0.006592  \n",
       "13  0.004130  "
      ]
     },
     "execution_count": 26,
     "metadata": {},
     "output_type": "execute_result"
    }
   ],
   "source": [
    "# Put the categorical encoder dictionary into a dataframe\n",
    "cat_encoder_df = pd.DataFrame(cat_encoder.items(), columns=['cat', 'cat_index'])\n",
    "\n",
    "# Merge data to append the category name\n",
    "cat_emb_df = pd.merge(cat_encoder_df, cat_emb_df, how = 'inner', on='cat_index')\n",
    "\n",
    "# Take a look at the data\n",
    "cat_emb_df"
   ]
  },
  {
   "cell_type": "markdown",
   "id": "23dd74c0",
   "metadata": {},
   "source": [
    "    "
   ]
  },
  {
   "cell_type": "markdown",
   "id": "ed2d401e",
   "metadata": {},
   "source": [
    "You can save these embeddings and use them in other models as input."
   ]
  },
  {
   "cell_type": "markdown",
   "id": "dc1076fb",
   "metadata": {},
   "source": [
    "References:\n",
    "\n",
    "https://colab.research.google.com/drive/13U4YRIdEu7SWS1ttiJPSrSayQHNbIaT_?usp=sharing#scrollTo=T9USnggEb1wk"
   ]
  },
  {
   "cell_type": "markdown",
   "id": "a7362b33",
   "metadata": {},
   "source": [
    "    "
   ]
  },
  {
   "cell_type": "markdown",
   "id": "bc0920be",
   "metadata": {},
   "source": [
    "# Recommended Tutorials\n",
    "\n",
    "- [GrabNGoInfo Machine Learning Tutorials Inventory](https://medium.com/grabngoinfo/grabngoinfo-machine-learning-tutorials-inventory-9b9d78ebdd67)\n",
    "- [Time Series Forecasting Of Bitcoin Prices Using Phrophet](https://colab.research.google.com/drive/1fy5nFDxdeyaMMsVbFbHWmCEAvdUK2Tdy?usp=sharing)\n",
    "- [3 Ways for Multiple Time Series Forecasting Using Prophet in Python](https://medium.com/p/3-ways-for-multiple-time-series-forecasting-using-prophet-in-python-7a0709a117f9)\n",
    "- [Time Series Causal Impact Analysis in Python](https://medium.com/grabngoinfo/time-series-causal-impact-analysis-in-python-63eacb1df5cc)\n",
    "- [Hyperparameter Tuning For XGBoost](https://colab.research.google.com/drive/18ooFZ4e7cW_zpbvwhBzzhWxCze0Mi6LA#scrollTo=1-FxiavJMirS)\n",
    "- [Hyperparameter_Tuning_for_Time_Series_Causal_Impact_Analysis_in_Python](https://colab.research.google.com/drive/1HkJ9zm0LY36Wz-wB_bSHq68w8Cef6qJO?usp=sharing)"
   ]
  },
  {
   "cell_type": "code",
   "execution_count": null,
   "id": "2e876e34",
   "metadata": {},
   "outputs": [],
   "source": []
  }
 ],
 "metadata": {
  "kernelspec": {
   "display_name": "Python 3 (ipykernel)",
   "language": "python",
   "name": "python3"
  },
  "language_info": {
   "codemirror_mode": {
    "name": "ipython",
    "version": 3
   },
   "file_extension": ".py",
   "mimetype": "text/x-python",
   "name": "python",
   "nbconvert_exporter": "python",
   "pygments_lexer": "ipython3",
   "version": "3.9.13"
  }
 },
 "nbformat": 4,
 "nbformat_minor": 5
}
